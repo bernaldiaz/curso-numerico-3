{
  "nbformat": 4,
  "nbformat_minor": 0,
  "metadata": {
    "colab": {
      "name": "T11TeoriaAproximación.ipynb",
      "provenance": [],
      "collapsed_sections": [
        "b0iipWhqwRiS"
      ],
      "toc_visible": true,
      "include_colab_link": true
    },
    "kernelspec": {
      "name": "python3",
      "display_name": "Python 3"
    },
    "language_info": {
      "name": "python"
    }
  },
  "cells": [
    {
      "cell_type": "markdown",
      "metadata": {
        "id": "view-in-github",
        "colab_type": "text"
      },
      "source": [
        "<a href=\"https://colab.research.google.com/github/bernaldiaz/curso-numerico-3/blob/main/T11TeoriaAproximaci%C3%B3n.ipynb\" target=\"_parent\"><img src=\"https://colab.research.google.com/assets/colab-badge.svg\" alt=\"Open In Colab\"/></a>"
      ]
    },
    {
      "cell_type": "markdown",
      "metadata": {
        "id": "oOXoQwJQVkQF"
      },
      "source": [
        "# Tema 11 - Teoría de la Aproximación"
      ]
    },
    {
      "cell_type": "markdown",
      "metadata": {
        "id": "RTvGtxVlXc2A"
      },
      "source": [
        "## Librerías y Funciones Necesarias"
      ]
    },
    {
      "cell_type": "code",
      "metadata": {
        "id": "vhchAzBeV-ZL"
      },
      "source": [
        "import numpy as np\n",
        "import math\n",
        "import cmath\n",
        "import pandas as pd\n",
        "from plotnine import *\n",
        "pd.set_option('max_columns', None)"
      ],
      "execution_count": null,
      "outputs": []
    },
    {
      "cell_type": "code",
      "metadata": {
        "id": "FTozSmZD3oh8"
      },
      "source": [
        "def SE(real, aprox):\n",
        "    \"\"\"\n",
        "    Dados el array de valores reales y el array de aproximaciones, calcula el error cuadrático\n",
        "    \n",
        "    Args:\n",
        "        real: (ndarray) Array de valores reales\n",
        "        aprox: (ndarray) Array de aproximaciones\n",
        "        \n",
        "    Returns:\n",
        "        error: (float) Error cuadrático\n",
        "    \"\"\" \n",
        "\n",
        "    error = 0\n",
        "    for k in range(real.shape[0]):\n",
        "        error += math.pow(real[k] - aprox[k], 2)\n",
        "\n",
        "    return error"
      ],
      "execution_count": null,
      "outputs": []
    },
    {
      "cell_type": "code",
      "metadata": {
        "id": "LWx-w9mEGG9m"
      },
      "source": [
        "def ValoresPolinomioGradoN(coefs, x, n):\n",
        "    \"\"\"\n",
        "    Dados el array de coeficientes ak, el array del término independientes x y el grado\n",
        "    del polinomio n, calcula las aproximaciones del polinomio \n",
        "    P(x) = a0 + a1 * x + a2 * x^2 + ... + an * x^n\n",
        "    \n",
        "    Args:\n",
        "        coefs: (ndarray) Array de coeficientes\n",
        "        x: (ndarray) Array de primeras coordenadas de los puntos de la nube de puntos (x_k, y_k)\n",
        "        n: (int) Grado del polinomio\n",
        "        \n",
        "    Returns:\n",
        "        aprox: (ndarray) Array de aproximaciones P(x)\n",
        "    \"\"\" \n",
        "\n",
        "    if coefs.shape[0] != n + 1:\n",
        "        print(\"La longitud del array de coeficientes no es correcta\")\n",
        "        return\n",
        "    \n",
        "    m = x.shape[0] # Número de puntos de la nube de puntos\n",
        "    aprox = np.zeros(m) \n",
        "    for i in range(m):\n",
        "        aprox[i] = coefs[0]\n",
        "        for j in range(1, n + 1):\n",
        "            aprox[i] += coefs[j] * math.pow(x[i], j)\n",
        "\n",
        "    return aprox\n"
      ],
      "execution_count": null,
      "outputs": []
    },
    {
      "cell_type": "code",
      "metadata": {
        "id": "V56gW2VrII64"
      },
      "source": [
        "def ValoresAproximacionTrigonometricaDiscreta(a, b, x, n):\n",
        "    \"\"\"\n",
        "    Dados el array de coeficientes ak, el array de coeficientes bk, el array del \n",
        "    término independientes x y el grado de la función Sn(x), n, calcula las aproximaciones \n",
        "    de la función trigonométrica Sn(x)\n",
        "    \n",
        "    Args:\n",
        "        a: (ndarray) Array de coeficientes ak\n",
        "        b: (ndarray) Array de coeficientes bk\n",
        "        x: (ndarray) Array de primeras coordenadas de los puntos de la nube de puntos (x_k, y_k)\n",
        "        n: (int) Grado de la función trigonométrica Sn(x)\n",
        "        \n",
        "    Returns:\n",
        "        aprox: (ndarray) Array de aproximaciones Sn(x)\n",
        "    \"\"\" \n",
        "\n",
        "    if a.shape[0] != n + 1 and b.shape[0] != n - 1:\n",
        "        print(\"La longitud de los arrays de coeficientes no es correcta\")\n",
        "        return\n",
        "    \n",
        "    m = x.shape[0] # Número de puntos de la nube de puntos\n",
        "    aprox = np.zeros(m) \n",
        "    for i in range(m):\n",
        "        aprox[i] = a[0] / 2\n",
        "        for j in range(1, n + 1):\n",
        "            if j < n:\n",
        "                aprox[i] += a[j] * math.cos(j * x[i]) + b[j - 1] * math.sin(j * x[i])\n",
        "            else: #j == n\n",
        "                aprox[i] += a[j] * math.cos(j * x[i])\n",
        "    return aprox"
      ],
      "execution_count": null,
      "outputs": []
    },
    {
      "cell_type": "code",
      "metadata": {
        "id": "87CfkZw79zbB"
      },
      "source": [
        "def FuncionFFT(a, b, x, n):\n",
        "    \"\"\"\n",
        "    Dados el array de coeficientes ak, el array de coeficientes bk, el array del \n",
        "    término independientes x y el grado de la serie de Fourier Discreta Sn(x), n, \n",
        "    calcula las aproximaciones de la función Sn(x)\n",
        "    \n",
        "    Args:\n",
        "        a: (ndarray) Array de coeficientes ak\n",
        "        b: (ndarray) Array de coeficientes bk\n",
        "        x: (float) Primera coordenada de un punto de la nube de puntos (x_k, y_k)\n",
        "        n: (int) Grado de la serie de Fourier Discreta Sn(x)\n",
        "        \n",
        "    Returns:\n",
        "        aprox: (float) Aproximación Sn(x)\n",
        "    \"\"\" \n",
        "\n",
        "    if a.shape[0] != n + 1 and b.shape[0] != n - 1:\n",
        "        print(\"La longitud de los arrays de coeficientes no es correcta\")\n",
        "        return\n",
        "     \n",
        "    aprox = (a[0] + a[n] * math.cos(n * x)) / 2\n",
        "    for j in range(1, n):\n",
        "        aprox += a[j] * math.cos(j * x) + b[j - 1] * math.sin(j * x)\n",
        "    return aprox"
      ],
      "execution_count": null,
      "outputs": []
    },
    {
      "cell_type": "code",
      "metadata": {
        "id": "AVkHX46qMgCn"
      },
      "source": [
        "def ValoresFFT(a, b, x, n):\n",
        "    \"\"\"\n",
        "    Dados el array de coeficientes ak, el array de coeficientes bk, el array del \n",
        "    término independientes x y el grado de la serie de Fourier Discreta Sn(x), n, \n",
        "    calcula las aproximaciones de la función Sn(x)\n",
        "    \n",
        "    Args:\n",
        "        a: (ndarray) Array de coeficientes ak\n",
        "        b: (ndarray) Array de coeficientes bk\n",
        "        x: (ndarray) Array de primeras coordenadas de los puntos de la nube de puntos (x_k, y_k)\n",
        "        n: (int) Grado de la serie de Fourier Discreta Sn(x)\n",
        "        \n",
        "    Returns:\n",
        "        aprox: (ndarray) Array de aproximaciones Sn(x)\n",
        "    \"\"\" \n",
        "\n",
        "    if a.shape[0] != n + 1 and b.shape[0] != n - 1:\n",
        "        print(\"La longitud de los arrays de coeficientes no es correcta\")\n",
        "        return\n",
        "    \n",
        "    m = x.shape[0] # Número de puntos de la nube de puntos\n",
        "    aprox = np.zeros(m)  \n",
        "    for i in range(m):\n",
        "        aprox[i] = (a[0] + a[n] * math.cos(n * x[i])) / 2\n",
        "        for j in range(1, n):\n",
        "            aprox[i] += a[j] * math.cos(j * x[i]) + b[j - 1] * math.sin(j * x[i])\n",
        "    return aprox"
      ],
      "execution_count": null,
      "outputs": []
    },
    {
      "cell_type": "code",
      "metadata": {
        "id": "jCl54F2cA-9J"
      },
      "source": [
        "def FuncionFFTIntervaloArbitrario(a, b, t, start, end, n):\n",
        "    \"\"\"\n",
        "    Dados el array de coeficientes ak, el array de coeficientes bk, el array del \n",
        "    término independientes t definido en el intervalo [start, end] y el grado \n",
        "    de la serie de Fourier Discreta Sn(x), n, calcula las aproximaciones de la función Sn(x)\n",
        "    \n",
        "    Args:\n",
        "        a: (ndarray) Array de coeficientes ak\n",
        "        b: (ndarray) Array de coeficientes bk\n",
        "        t: (float) Primeras coordenadas de un punto de la nube de puntos (t_k, y_k)\n",
        "        start: (int) Extremo inferior del intervalo [start, end]\n",
        "        end: (int) Extremo superior del intervalo [start, end]\n",
        "        n: (int) Grado de la serie de Fourier Discreta Sn(x)\n",
        "        \n",
        "    Returns:\n",
        "        aprox: (float) Aproximación Sn(x)\n",
        "    \"\"\" \n",
        "\n",
        "    if a.shape[0] != n + 1 and b.shape[0] != n - 1:\n",
        "        print(\"La longitud de los arrays de coeficientes no es correcta\")\n",
        "        return\n",
        "    \n",
        "    alpha = 2 * math.pi / (end - start)\n",
        "    beta = (start + end) / 2\n",
        "    aprox = (a[0] + a[n] * math.cos(alpha * n * (t - beta))) / 2\n",
        "    for j in range(1, n):\n",
        "        aprox += (a[j] * math.cos(alpha * j * (t - beta)) +\n",
        "                  b[j - 1] * math.sin(alpha * j * (t - beta)))\n",
        "    return aprox"
      ],
      "execution_count": null,
      "outputs": []
    },
    {
      "cell_type": "code",
      "metadata": {
        "id": "sUaNx3eIbyGR"
      },
      "source": [
        "def ValoresFFTIntervaloArbitrario(a, b, t, start, end, n):\n",
        "    \"\"\"\n",
        "    Dados el array de coeficientes ak, el array de coeficientes bk, el array del \n",
        "    término independientes t definido en el intervalo [start, end] y el grado \n",
        "    de la serie de Fourier Discreta Sn(x), n, calcula las aproximaciones de la función Sn(x)\n",
        "    \n",
        "    Args:\n",
        "        a: (ndarray) Array de coeficientes ak\n",
        "        b: (ndarray) Array de coeficientes bk\n",
        "        t: (ndarray) Array de primeras coordenadas de los puntos de la nube de puntos (t_k, y_k)\n",
        "        start: (int) Extremo inferior del intervalo [start, end]\n",
        "        end: (int) Extremo superior del intervalo [start, end]\n",
        "        n: (int) Grado de la serie de Fourier Discreta Sn(x)\n",
        "        \n",
        "    Returns:\n",
        "        aprox: (ndarray) Array de aproximaciones Sn(x)\n",
        "    \"\"\" \n",
        "\n",
        "    if a.shape[0] != n + 1 and b.shape[0] != n - 1:\n",
        "        print(\"La longitud de los arrays de coeficientes no es correcta\")\n",
        "        return\n",
        "    \n",
        "    m = t.shape[0] # Número de puntos de la nube de puntos\n",
        "    alpha = 2 * math.pi / (end - start)\n",
        "    beta = (start + end) / 2\n",
        "    aprox = np.zeros(m)  \n",
        "    for i in range(m):\n",
        "        aprox[i] = (a[0] + a[n] * math.cos(alpha * n * (t[i] - beta))) / 2\n",
        "        for j in range(1, n):\n",
        "            aprox[i] += (a[j] * math.cos(alpha * j * (t[i] - beta)) + \n",
        "                         b[j - 1] * math.sin(alpha * j * (t[i] - beta)))\n",
        "    return aprox"
      ],
      "execution_count": null,
      "outputs": []
    },
    {
      "cell_type": "code",
      "metadata": {
        "id": "rWQosaEth85w"
      },
      "source": [
        "def HelperPlotLineal(x, y, a0, a1):\n",
        "    \"\"\"\n",
        "    Dados una nube de puntos (x_k, y_k) y los coeficientes a0 y a1, muestra un \n",
        "    gráfico donde se muestran los puntos de la nube y la recta y = a0 + a1x\n",
        "    \n",
        "    Args:\n",
        "        x: (ndarray) Array de primeras coordenadas de los puntos de la nube de puntos (x_k, y_k)\n",
        "        y: (ndarray) Array de segundas coordenadas de los puntos de la nube de puntos (x_k, y_k)\n",
        "        a0: (float) Término independiente de la recta y = a0 + a1x\n",
        "        a1: (float) Coeficiente lineal de la recta y = a0 + a1x\n",
        "    \"\"\" \n",
        "\n",
        "    df = pd.DataFrame({\"x\": x, \"y\": y, \"end\": a0 + a1 * x}) \n",
        "    p = ggplot(df, aes(x = \"x\", y = \"y\"))\n",
        "    (p\n",
        "    + geom_segment(aes(x = \"x\", y = \"y\", xend = \"x\", yend = \"end\"), color = \"red\")\n",
        "    + geom_point(aes(y = \"end\"), color = \"blue\", size = 0.5)\n",
        "    + geom_line(aes(y = \"end\"), color = \"blue\")\n",
        "    + geom_point(color = \"black\")\n",
        "    + ylab(\"\")\n",
        "    + xlab(\"x\")\n",
        "    + xlim(df[\"x\"].iloc[0] - 0.5, df[\"x\"].iloc[-1] + 0.5) \n",
        "    + ggtitle(\"yHat = {} + {}x\\nSE = {}\".format(round(a0, 3), round(a1, 3), \n",
        "                                                 round(SE(y, np.array(a0 + a1 * x)), 3)))\n",
        "    ).draw();"
      ],
      "execution_count": null,
      "outputs": []
    },
    {
      "cell_type": "code",
      "metadata": {
        "id": "OD4myEomy09I"
      },
      "source": [
        "def HelperPlotPolinomial(x, y, a):\n",
        "    \"\"\"\n",
        "    Dados una nube de puntos (x_k, y_k) y el ndarray de coeficientes a, muestra un \n",
        "    gráfico donde se muestran los puntos de la nube y el polinomio de aproximación\n",
        "    \n",
        "    Args:\n",
        "        x: (ndarray) Array de primeras coordenadas de los puntos de la nube de puntos (x_k, y_k)\n",
        "        y: (ndarray) Array de segundas coordenadas de los puntos de la nube de puntos (x_k, y_k)\n",
        "        a: (ndarray) Array de coeficientes a0, a1,..., an\n",
        "    \"\"\" \n",
        "\n",
        "    n = a.shape[0] - 1 # Grado del polinomio de aproximación\n",
        "    m = x.shape[0] # Número de puntos de la nube de puntos\n",
        "    \n",
        "    # Calculamos los valores aproximados por el polinomio de aproximación de grado n\n",
        "    polynomial = ValoresPolinomioGradoN(a, x, n)\n",
        "\n",
        "    # Construimos el string que muestra el polinomio de aproximación de grado n\n",
        "    polynomialText = \"{}\".format(round(a[0], 3))\n",
        "    for i in range(1, n + 1):\n",
        "        polynomialText += \" + {}x^{}\".format(round(a[i], 3), i)\n",
        "\n",
        "    df = pd.DataFrame({\"x\": x, \"y\": y, \"end\": polynomial}) \n",
        "    p = ggplot(df, aes(x = \"x\", y = \"y\"))\n",
        "    (p\n",
        "    + geom_segment(aes(x = \"x\", y = \"y\", xend = \"x\", yend = \"end\"), color = \"red\")\n",
        "    + geom_point(aes(y = \"end\"), color = \"blue\", size = 0.5)\n",
        "    + geom_line(aes(y = \"end\"), color = \"blue\")\n",
        "    + geom_point(color = \"black\")\n",
        "    + ylab(\"\")\n",
        "    + xlab(\"x\")\n",
        "    + xlim(df[\"x\"].iloc[0] - 0.5, df[\"x\"].iloc[-1] + 0.5) \n",
        "    + ggtitle(\"y = {}\\nSE = {}\".format(polynomialText, \n",
        "                                        round(SE(y, polynomial), 3)))\n",
        "    ).draw();"
      ],
      "execution_count": null,
      "outputs": []
    },
    {
      "cell_type": "code",
      "metadata": {
        "id": "6nHMzGvU-CdH"
      },
      "source": [
        "def HelperPlotTrigonometrico(x, y, a, b):\n",
        "    \"\"\"\n",
        "    Dados una nube de puntos (x_k, y_k), el ndarray de coeficientes a, y el ndarray\n",
        "    de puntos b, muestra un gráfico donde se muestran los puntos de la nube y la función\n",
        "    Sn(x) de aproximación\n",
        "    \n",
        "    Args:\n",
        "        x: (ndarray) Array de primeras coordenadas de los puntos de la nube de puntos (x_k, y_k)\n",
        "        y: (ndarray) Array de segundas coordenadas de los puntos de la nube de puntos (x_k, y_k)\n",
        "        a: (ndarray) Array de coeficientes a0, a1,..., an\n",
        "        b: (ndarray) Array de coeficientes b0, b1,..., b(n - 2)\n",
        "    \"\"\" \n",
        "\n",
        "    n = a.shape[0] - 1 # Número entero n\n",
        "    m = x.shape[0] # Número de puntos de la nube de puntos\n",
        "    \n",
        "    # Calculamos los valores aproximados por la función de aproximación trigonométrica Sn(x)\n",
        "    fun = ValoresAproximacionTrigonometricaDiscreta(a, b, x, n)\n",
        "\n",
        "    # Construimos el string que muestra el polinomio de aproximación de grado n\n",
        "    funText = \"{}\".format(round(a[0] / 2, 3))\n",
        "    for i in range(1, n + 1):\n",
        "        funText += \" + {}cos({}x)\".format(round(a[i], 3), i)\n",
        "    for i in range(n - 1):\n",
        "        funText += \" + {}sin({}x)\".format(round(b[i], 3), i + 1)\n",
        "\n",
        "    df = pd.DataFrame({\"x\": x, \"y\": y, \"end\": fun}) \n",
        "    p = ggplot(df, aes(x = \"x\", y = \"y\"))\n",
        "    (p\n",
        "    + geom_segment(aes(x = \"x\", y = \"y\", xend = \"x\", yend = \"end\"), color = \"red\")\n",
        "    + geom_point(aes(y = \"end\"), color = \"blue\", size = 0.5)\n",
        "    + geom_line(aes(y = \"end\"), color = \"blue\")\n",
        "    + geom_point(color = \"black\")\n",
        "    + ylab(\"\")\n",
        "    + xlab(\"x\")\n",
        "    + xlim(df[\"x\"].iloc[0] - 0.5, df[\"x\"].iloc[-1] + 0.5) \n",
        "    + ggtitle(\"S{}(x) = {}\\nSE = {}\".format(n, funText,\n",
        "                                             round(SE(y, fun), 3)))\n",
        "    ).draw();"
      ],
      "execution_count": null,
      "outputs": []
    },
    {
      "cell_type": "code",
      "metadata": {
        "id": "4V0wwgcmJnEI"
      },
      "source": [
        "def HelperPlotFFT(x, y, a, b):\n",
        "    \"\"\"\n",
        "    Dados una nube de puntos (x_k, y_k), el ndarray de coeficientes a, y el ndarray\n",
        "    de puntos b, muestra un gráfico donde se muestran los puntos de la nube y la función\n",
        "    Sn(x) de aproximación\n",
        "    \n",
        "    Args:\n",
        "        x: (ndarray) Array de primeras coordenadas de los puntos de la nube de puntos (x_k, y_k)\n",
        "        y: (ndarray) Array de segundas coordenadas de los puntos de la nube de puntos (x_k, y_k)\n",
        "        a: (ndarray) Array de coeficientes a0, a1,..., an\n",
        "        b: (ndarray) Array de coeficientes b0, b1,..., b(n - 2)\n",
        "    \"\"\" \n",
        "\n",
        "    m = x.shape[0] # Total de observaciones\n",
        "    n = a.shape[0] - 1 # Potencia de 2\n",
        "\n",
        "    # Calculamos los valores aproximados por la función de aproximación Sn(x)\n",
        "    fun = ValoresFFT(a, b, x, n)\n",
        "\n",
        "    # Construimos el string que muestra la forma de la transformada de Fourier\n",
        "    funText = \"{} + {}cos({}x)\".format(round(a[0] / 2, 3), round(a[n] / 2, 3), n)\n",
        "    for i in range(1, n):\n",
        "        funText += \" + {}cos({}x)\".format(round(a[i], 3), i)\n",
        "    for i in range(n - 1):\n",
        "        funText += \" + {}sin({}x)\".format(round(b[i], 3), i + 1)\n",
        "\n",
        "    df = pd.DataFrame({\"x\": x, \"y\": y, \"end\": fun}) \n",
        "    p = ggplot(df, aes(x = \"x\", y = \"y\"))\n",
        "    (p\n",
        "    + geom_segment(aes(x = \"x\", y = \"y\", xend = \"x\", yend = \"end\"), color = \"red\")\n",
        "    + geom_point(aes(y = \"end\"), color = \"blue\", size = 0.5) \n",
        "    + stat_function(aes(x = \"x\"), fun = lambda x: FuncionFFT(a, b, x, n), color = \"blue\")\n",
        "    + geom_point(color = \"black\")\n",
        "    + ylab(\"\")\n",
        "    + xlab(\"x\")\n",
        "    + xlim(df[\"x\"].iloc[0] - 0.5, df[\"x\"].iloc[-1] + 0.5) \n",
        "    + ggtitle(\"S{}(x) = {}\\nSE = {}\".format(n, funText,\n",
        "                                             round(SE(y, fun), 3)))\n",
        "    ).draw();"
      ],
      "execution_count": null,
      "outputs": []
    },
    {
      "cell_type": "code",
      "metadata": {
        "id": "btpiXjT4ZAi2"
      },
      "source": [
        "def HelperPlotFFTIntevaloArbitrario(t, start, end, y, a, b):\n",
        "    \"\"\"\n",
        "    Dados una nube de puntos (t_k, y_k), donde los valores t_k están definidos en el intervalo\n",
        "    [start, end], el ndarray de coeficientes a, y el ndarray de puntos b, muestra un gráfico \n",
        "    donde se muestran los puntos de la nube y la función Sn(x) de aproximación\n",
        "    \n",
        "    Args:\n",
        "        t: (ndarray) Array de primeras coordenadas de los puntos de la nube de puntos (t_k, y_k)\n",
        "        start: (int) Extremo inferior del intervalo [start, end]\n",
        "        end: (int) Extremo superior del intervalo [start, end]\n",
        "        y: (ndarray) Array de segundas coordenadas de los puntos de la nube de puntos (t_k, y_k)\n",
        "        a: (ndarray) Array de coeficientes a0, a1,..., an\n",
        "        b: (ndarray) Array de coeficientes b0, b1,..., b(n - 2)\n",
        "    \"\"\" \n",
        "\n",
        "    m = t.shape[0] # Total de observaciones\n",
        "    n = a.shape[0] - 1 # Potencia de 2\n",
        "    \n",
        "    # Calculamos los valores aproximados por la función de aproximación Sn(x)\n",
        "    fun = ValoresFFTIntervaloArbitrario(a, b, t, start, end, n)\n",
        "\n",
        "    # Construimos el string que muestra la forma de la transformada de Fourier\n",
        "    aux = round((start + end) / 2, 3)\n",
        "    funText = \"{} + {}cos(2pi * {} (t - {}))\".format(round(a[0] / 2, 3),\n",
        "                                                        round(a[n] / 2, 3),\n",
        "                                                        round(n / (end - start), 3),\n",
        "                                                        aux)\n",
        "    for i in range(1, n):\n",
        "        funText += \" + {}cos(2pi * {}(t - {}))\".format(round(a[i], 3),\n",
        "                                                       round(i / (end - start), 3),\n",
        "                                                       aux)\n",
        "    for i in range(n - 1):\n",
        "        funText += \" + {}sin(2pi * {}(t - {}))\".format(round(b[i], 3), \n",
        "                                                round((i + 1) / (end - start), 3),\n",
        "                                                aux)\n",
        "\n",
        "    df = pd.DataFrame({\"x\": t, \"y\": y, \"end\": fun}) \n",
        "    p = ggplot(df, aes(x = \"x\", y = \"y\"))\n",
        "    (p\n",
        "    + geom_segment(aes(x = \"x\", y = \"y\", xend = \"x\", yend = \"end\"), color = \"red\")\n",
        "    + geom_point(aes(y = \"end\"), color = \"blue\", size = 0.5) \n",
        "    + stat_function(aes(x = \"x\"), \n",
        "                    fun = lambda t: FuncionFFTIntervaloArbitrario(a, b, t, start, end, n), \n",
        "                    color = \"blue\")\n",
        "    + geom_point(color = \"black\")\n",
        "    + ylab(\"\")\n",
        "    + xlab(\"x\")\n",
        "    + xlim(df[\"x\"].iloc[0] - 0.5, df[\"x\"].iloc[-1] + 0.5) \n",
        "    + ggtitle(\"S{}(x) = {}\\nSE = {}\".format(n, funText,\n",
        "                                             round(SE(y, fun), 3)))\n",
        "    ).draw();"
      ],
      "execution_count": null,
      "outputs": []
    },
    {
      "cell_type": "markdown",
      "metadata": {
        "id": "fNmSFJzyXhKd"
      },
      "source": [
        "## Método de Mínimos Cuadrados"
      ]
    },
    {
      "cell_type": "markdown",
      "metadata": {
        "id": "bzjw1dIYc1BB"
      },
      "source": [
        "### Método de Mínimos Cuadrados Lineal"
      ]
    },
    {
      "cell_type": "markdown",
      "metadata": {
        "id": "EqAlEHCEUE38"
      },
      "source": [
        "Hallar la **aproximación lineal por mínimos cuadrados** es hallar la mejor recta tal que la función error\n",
        "\n",
        "$$E\\left(\\hat{f}\\right) = \\sum_{k = 1}^m \\left(y_k - \\hat{f}(x_k)\\right)^2$$\n",
        "\n",
        "es mínima. Es decir, hallamos los coeficientes $a_0$ y $a_1$ tal que la suma de los errores al cuadrado entre las ordenadas $y_k$ y los valores dados por la recta $a_0 + a_1x_k$,\n",
        "\n",
        "$$(y_k - a_0 - a_1x_k)^2$$\n",
        "\n",
        " es mínima."
      ]
    },
    {
      "cell_type": "code",
      "metadata": {
        "id": "lg6dfOLkIUno"
      },
      "source": [
        "def MinimosCuadradosLineal(x, y, verbose = False):\n",
        "    \"\"\"\n",
        "    Ofrece una aproximación de los coeficientes a0 y a1 para la nube de m \n",
        "    puntos (x_k, y_k)  \n",
        "\n",
        "    Args:\n",
        "        x: (ndarray) Array de primeras coordenadas de los puntos de la nube de puntos (x_k, y_k)\n",
        "        y: (ndarray) Array de segundas coordenadas de los puntos de la nube de puntos (x_k, y_k)\n",
        "        verbose: (bool) Para mostrar o no los resultados relevantes\n",
        "\n",
        "    Returns:\n",
        "        (a0, a1): (tuple) Coeficientes a0 y a1\n",
        "    \"\"\"\n",
        "\n",
        "    m = x.shape[0] # Guardamos el número de elementos de x\n",
        "\n",
        "    if y.shape[0] != m: # Comprobamos si x e y tienen la misma longitud\n",
        "        print(\"x e y no tienen el mismo número de elementos\")\n",
        "        return\n",
        "\n",
        "    # Inicializamos las variables\n",
        "    sigmaX, sigmaY, sigmaX2, sigmaXY = 0, 0, 0, 0\n",
        "\n",
        "    for k in range(m):\n",
        "        sigmaX += x[k]\n",
        "        sigmaY += y[k]\n",
        "        sigmaX2 += math.pow(x[k], 2)\n",
        "        sigmaXY += x[k] * y[k]\n",
        "\n",
        "    # Hacemos los últimos cálculos para poder obtener a0 y a1\n",
        "    meanX = sigmaX / m # Media de x\n",
        "    meanY = sigmaY / m # Media de y\n",
        "    sX2 = sigmaX2 / m - math.pow(meanX, 2)\n",
        "    sXY = sigmaXY / m - meanX * meanY\n",
        "\n",
        "    # Calculamos a0 y a1\n",
        "    a1 = sXY / sX2\n",
        "    a0 = meanY - a1 * meanX\n",
        "\n",
        "    if verbose:\n",
        "        print(\"a0 =\", a0)\n",
        "        print(\"a1 =\", a1)\n",
        "\n",
        "    return (a0, a1)"
      ],
      "execution_count": null,
      "outputs": []
    },
    {
      "cell_type": "markdown",
      "metadata": {
        "id": "doPMGXYG4v_q"
      },
      "source": [
        "Veamos un ejemplo considerando la siguiente nube de puntos:"
      ]
    },
    {
      "cell_type": "code",
      "metadata": {
        "id": "aRvDv8MlKjy-"
      },
      "source": [
        "x = np.array([1, 2, 3, 4, 5, 6, 7, 8, 9, 10])\n",
        "y = np.array([1.6620781, 7.5824881, 2.6419837, 9.8076052, 10.2366814, \n",
        "              11.629404, 14.7915203, 15.7676398, 19.9221514, 20.4909214])"
      ],
      "execution_count": null,
      "outputs": []
    },
    {
      "cell_type": "code",
      "metadata": {
        "colab": {
          "base_uri": "https://localhost:8080/"
        },
        "id": "ttbVE4FDKgR-",
        "outputId": "8d03924d-8ced-4181-c555-f2ee90cbc591"
      },
      "source": [
        "a0, a1 = MinimosCuadradosLineal(x, y, verbose = True)"
      ],
      "execution_count": null,
      "outputs": [
        {
          "output_type": "stream",
          "name": "stdout",
          "text": [
            "a0 = 0.19291463333333603\n",
            "a1 = 2.047333219393939\n"
          ]
        }
      ]
    },
    {
      "cell_type": "markdown",
      "metadata": {
        "id": "3UPVXr_040SH"
      },
      "source": [
        "Calculemos el error cometido:"
      ]
    },
    {
      "cell_type": "code",
      "metadata": {
        "colab": {
          "base_uri": "https://localhost:8080/"
        },
        "id": "pP4SoML34o_s",
        "outputId": "1ed83276-fafe-4ee3-e53f-8180de607636"
      },
      "source": [
        "# Valores aproximados\n",
        "aprox = np.array(a0 + a1 * x)\n",
        "\n",
        "# Calculamos el error\n",
        "se = SE(y, aprox)\n",
        "print(\"SE =\", se)"
      ],
      "execution_count": null,
      "outputs": [
        {
          "output_type": "stream",
          "name": "stdout",
          "text": [
            "SE = 30.06247989198013\n"
          ]
        }
      ]
    },
    {
      "cell_type": "code",
      "metadata": {
        "id": "42KJQQkeXF6a",
        "colab": {
          "base_uri": "https://localhost:8080/",
          "height": 490
        },
        "outputId": "e996605d-7e31-4e89-e124-a4b8045b5522"
      },
      "source": [
        "HelperPlotLineal(x, y, a0, a1)"
      ],
      "execution_count": null,
      "outputs": [
        {
          "output_type": "display_data",
          "data": {
            "image/png": "[encoded data removed]",
            "text/plain": [
              "<Figure size 640x480 with 1 Axes>"
            ]
          },
          "metadata": {}
        }
      ]
    },
    {
      "cell_type": "markdown",
      "metadata": {
        "id": "b0iipWhqwRiS"
      },
      "source": [
        "### Método de Mínimos Cuadrados Polinomial"
      ]
    },
    {
      "cell_type": "markdown",
      "metadata": {
        "id": "cziBtI3pwbUU"
      },
      "source": [
        "Hallar la **aproximación polinomial por mínimos cuadrados** es hallar el mejor polinomio $P_n(x)$ tal que la función del error\n",
        "\n",
        "$$E\\left(\\hat{f}\\right) = \\sum_{k = 1}^m \\left(y_k - \\hat{f}(x_k)\\right)^2$$\n",
        "\n",
        "sea mínima. Es decir, hallamos los coeficientes $a_0$, $a_1$, $\\dots, a_n$ tal que la suma de los errores al cuadrado entre las ordenadas $y_k$ y los valores dados por el polinomio $a_0 + a_1x_k + \\cdots a_nx_k^n$,\n",
        "\n",
        "$$(y_k - a_0 - a_1x_k - \\cdots - a_nx_k^n)^2$$\n",
        "\n",
        " sea mínima."
      ]
    },
    {
      "cell_type": "code",
      "metadata": {
        "id": "QcIvHyrdlYYy"
      },
      "source": [
        "def MinimosCuadradosPolinomial(x, y, n, verbose = False):\n",
        "    \"\"\"\n",
        "    Ofrece una aproximación de los coeficientes a0, a1,..., an para la nube de m \n",
        "    puntos (x_k, y_k)  \n",
        "\n",
        "    Args:\n",
        "        x: (ndarray) Array de primeras coordenadas de los puntos de la nube de puntos (x_k, y_k)\n",
        "        y: (ndarray) Array de segundas coordenadas de los puntos de la nube de puntos (x_k, y_k)\n",
        "        n: (int) Grado del polinomio a interpolar\n",
        "        verbose: (bool) Para mostrar o no los resultados relevantes\n",
        "\n",
        "    Returns:\n",
        "        a: (ndarray) Array de coeficientes a0, a1,..., an\n",
        "    \"\"\"\n",
        "\n",
        "    m = x.shape[0] # Guardamos el número de elementos de x\n",
        "\n",
        "    if y.shape[0] != m: # Comprobamos si x e y tienen la misma longitud\n",
        "        print(\"x e y no tienen el mismo número de elementos\")\n",
        "        return\n",
        "\n",
        "    # Inicializamos las variables\n",
        "    A = np.zeros((n + 1, n + 1))\n",
        "    b = np.zeros(n + 1)\n",
        "\n",
        "    for k in range(m):\n",
        "        for i in range(n + 1):\n",
        "            b[i] += y[k] * math.pow(x[k], i)\n",
        "            \n",
        "            for j in range(n + 1):\n",
        "                A[i, j] += math.pow(x[k], i + j)\n",
        "\n",
        "    # Resolvemos el sistema Aa = b mediante el método solve de numpy\n",
        "    a = np.linalg.solve(A, b)\n",
        "\n",
        "    if verbose:\n",
        "        for i in range(n + 1):\n",
        "            print(\"a{} = {}\".format(i, a[i]))\n",
        "\n",
        "    return a"
      ],
      "execution_count": null,
      "outputs": []
    },
    {
      "cell_type": "markdown",
      "metadata": {
        "id": "2VWBRW9hD2nL"
      },
      "source": [
        "Veamos un ejemplo considerando los siguientes datos:"
      ]
    },
    {
      "cell_type": "code",
      "metadata": {
        "id": "33m1DJ5QyZtV"
      },
      "source": [
        "x = np.array([1, 2, 3, 4, 5, 6, 7, 8, 9, 10])\n",
        "y = np.array([1.6620781, 7.5824881, 2.6419837, 9.8076052, 10.2366814, \n",
        "              11.629404, 14.7915203, 15.7676398, 19.9221514, 20.4909214])\n",
        "n = 2"
      ],
      "execution_count": null,
      "outputs": []
    },
    {
      "cell_type": "code",
      "metadata": {
        "colab": {
          "base_uri": "https://localhost:8080/"
        },
        "id": "Y4rNRiqdygyw",
        "outputId": "feeeda17-e924-4c66-f5bb-35126e60e7aa"
      },
      "source": [
        "a = MinimosCuadradosPolinomial(x, y, n, verbose = True)"
      ],
      "execution_count": null,
      "outputs": [
        {
          "output_type": "stream",
          "name": "stdout",
          "text": [
            "a0 = 0.8809091666667184\n",
            "a1 = 1.7033359527272525\n",
            "a2 = 0.03127247878788043\n"
          ]
        }
      ]
    },
    {
      "cell_type": "markdown",
      "metadata": {
        "id": "K4ArRDdlD-x4"
      },
      "source": [
        "Calculemos el error cometido:"
      ]
    },
    {
      "cell_type": "code",
      "metadata": {
        "colab": {
          "base_uri": "https://localhost:8080/"
        },
        "id": "avWhnSmaD_Xt",
        "outputId": "7dcdf8b7-42f4-436f-eda2-cbc43c10cfa3"
      },
      "source": [
        "# Valores aproximados\n",
        "aprox = ValoresPolinomioGradoN(a, x, n)\n",
        "\n",
        "# Calculamos el error\n",
        "se = SE(y, aprox)\n",
        "print(\"SE =\", se)"
      ],
      "execution_count": null,
      "outputs": [
        {
          "output_type": "stream",
          "name": "stdout",
          "text": [
            "SE = 29.5461128251839\n"
          ]
        }
      ]
    },
    {
      "cell_type": "code",
      "metadata": {
        "colab": {
          "base_uri": "https://localhost:8080/",
          "height": 490
        },
        "id": "oD04rtLmyoBB",
        "outputId": "397e29c7-8d67-429a-a812-5e7115a594d5"
      },
      "source": [
        "HelperPlotPolinomial(x, y, a)"
      ],
      "execution_count": null,
      "outputs": [
        {
          "output_type": "display_data",
          "data": {
            "image/png": "[encoded data removed]",
            "text/plain": [
              "<Figure size 640x480 with 1 Axes>"
            ]
          },
          "metadata": {}
        }
      ]
    },
    {
      "cell_type": "markdown",
      "metadata": {
        "id": "jUOwBlV43hAh"
      },
      "source": [
        "## Aproximación Trigonométrica Discreta"
      ]
    },
    {
      "cell_type": "markdown",
      "metadata": {
        "id": "mgLOYjmH3pd2"
      },
      "source": [
        "Versión discreta de cómo aproximar una función $f$ integrable en $[-\\pi, \\pi]$ por una función trigonométrica de la forma\n",
        "\n",
        "$$S_n(x) = \\frac{a_0}{2} + \\sum_{j = 1}^n a_j\\cos(jx) + \\sum_{j = 1}^{n - 1}b_j\\sin(jx)$$"
      ]
    },
    {
      "cell_type": "code",
      "metadata": {
        "id": "_sYk3yBr0mG2"
      },
      "source": [
        "def AproximacionTrigonometricaDiscreta(x, y, n, verbose = False):\n",
        "    \"\"\"\n",
        "    Ofrece una aproximación de los coeficientes a0, a1,..., an, b0, b1,..., b(n-2) \n",
        "    para la nube de m puntos (x_k, y_k)  \n",
        "\n",
        "    Args:\n",
        "        x: (ndarray) Array de primeras coordenadas de los puntos de la nube de puntos (x_k, y_k)\n",
        "        y: (ndarray) Array de segundas coordenadas de los puntos de la nube de puntos (x_k, y_k)\n",
        "        n: (int) Número de coeficientes a_i a calcular\n",
        "        verbose: (bool) Para mostrar o no los resultados relevantes\n",
        "\n",
        "    Returns:\n",
        "        (a, b): (tuple) Array de coeficientes a0, a1,..., an y array de coeficientes b0,..., b(n-2)\n",
        "    \"\"\"\n",
        "\n",
        "    m = (int)(x.shape[0]/2) # Guardamos la mitad del número de elementos de x\n",
        "\n",
        "    if y.shape[0] != 2*m: # Comprobamos si x e y tienen la misma longitud\n",
        "        print(\"x e y no tienen el mismo número de elementos\")\n",
        "        return\n",
        "\n",
        "    # Inicializamos las variables\n",
        "    a = np.zeros(n + 1)\n",
        "    b = np.zeros(n - 1)\n",
        "\n",
        "    # Calculamos el coeficiente a0\n",
        "    for i in range(2*m):\n",
        "        a[0] += y[i]\n",
        "\n",
        "    # Calculamos el resto de coeficientes ak para k = 1, ..., n - 1 y los \n",
        "    # coeficientes bk para k = 0,..., n - 2\n",
        "    for k in range(1, n):\n",
        "        for i in range(2*m):\n",
        "            a[k] += y[i] * math.cos(k * x[i])\n",
        "            b[k - 1] += y[i] * math.sin(k * x[i])\n",
        "\n",
        "    # Calculamos el coeficiente an\n",
        "    for i in range(2*m):\n",
        "        a[n] += y[i] * math.cos(n * x[i])\n",
        "\n",
        "    # Dividimos las entradas de los vectores a y b entre m\n",
        "    a /= m\n",
        "    b /= m\n",
        "\n",
        "    if verbose:\n",
        "        for i in range(n + 1):\n",
        "            print(\"a{} = {}\".format(i, a[i]))\n",
        "        for i in range(n - 1):\n",
        "            print(\"b{} = {}\".format(i, b[i]))\n",
        "\n",
        "    return (a, b)"
      ],
      "execution_count": null,
      "outputs": []
    },
    {
      "cell_type": "markdown",
      "metadata": {
        "id": "AeP0MUEvHlMA"
      },
      "source": [
        "Veamos un ejemplo considerando los siguientes datos:"
      ]
    },
    {
      "cell_type": "code",
      "metadata": {
        "id": "REfswQ_Q6kgj"
      },
      "source": [
        "x = np.array([-math.pi + 2*k * math.pi / 10 for k in range(10)])\n",
        "y = np.array([math.pow(xk, 2) for xk in x])\n",
        "n = 2"
      ],
      "execution_count": null,
      "outputs": []
    },
    {
      "cell_type": "code",
      "metadata": {
        "colab": {
          "base_uri": "https://localhost:8080/"
        },
        "id": "DWOSxkgH7QzN",
        "outputId": "176a3b9e-ae2a-4450-82c2-ce83fed93c53"
      },
      "source": [
        "a, b = AproximacionTrigonometricaDiscreta(x, y, n, verbose = True)"
      ],
      "execution_count": null,
      "outputs": [
        {
          "output_type": "stream",
          "name": "stdout",
          "text": [
            "a0 = 6.711330992740763\n",
            "a1 = -4.134233564410797\n",
            "a2 = 1.1426740537170184\n",
            "b0 = -3.552713678800501e-16\n"
          ]
        }
      ]
    },
    {
      "cell_type": "markdown",
      "metadata": {
        "id": "Ll-64YbyHzCN"
      },
      "source": [
        "Calculemos el error cometido:"
      ]
    },
    {
      "cell_type": "code",
      "metadata": {
        "colab": {
          "base_uri": "https://localhost:8080/"
        },
        "id": "pL0lkHrYHyx-",
        "outputId": "02994cb5-6c10-4051-f889-081ab6a785f1"
      },
      "source": [
        "# Valores aproximados\n",
        "aprox = ValoresAproximacionTrigonometricaDiscreta(a, b, x, n)\n",
        "\n",
        "# Calculamos el error\n",
        "se = SE(y, aprox)\n",
        "print(\"SE =\", se)"
      ],
      "execution_count": null,
      "outputs": [
        {
          "output_type": "stream",
          "name": "stdout",
          "text": [
            "SE = 3.161244331319074\n"
          ]
        }
      ]
    },
    {
      "cell_type": "code",
      "metadata": {
        "id": "GJ3kGWB_7VXT",
        "colab": {
          "base_uri": "https://localhost:8080/",
          "height": 490
        },
        "outputId": "ad21e928-96d6-4e7a-86bd-9cc4ed638d51"
      },
      "source": [
        "HelperPlotTrigonometrico(x, y, a, b)"
      ],
      "execution_count": null,
      "outputs": [
        {
          "output_type": "display_data",
          "data": {
            "image/png": "[encoded data removed]",
            "text/plain": [
              "<Figure size 640x480 with 1 Axes>"
            ]
          },
          "metadata": {}
        }
      ]
    },
    {
      "cell_type": "markdown",
      "metadata": {
        "id": "6f4rNPtBs8CH"
      },
      "source": [
        "## Transformada Rápida de Fourier"
      ]
    },
    {
      "cell_type": "markdown",
      "metadata": {
        "id": "TozNRckuztTl"
      },
      "source": [
        "Vamos a hallar la **Transformada de Fourier** de la forma\n",
        "\n",
        "$$S_m(x) = \\frac{a_0 + a_m \\cos(mx)}{2} + \\sum_{j = 1}^{m - 1}a_j\\cos(jx) + \\sum_{j = 1}^{m - 1}b_j\\sin(jx)$$\n",
        "\n",
        "con \n",
        "\n",
        "$$a_k = \\frac{1}{m}\\sum_{i = 0}^{2m - 1}y_i\\cos(kx_i)\\quad k = 0, 1, \\dots, m$$\n",
        "\n",
        "$$b_k = \\frac{1}{m}\\sum_{i = 0}^{2m - 1}y_i\\sin(kx_i)\\quad k = 0, 1, \\dots, m - 1$$"
      ]
    },
    {
      "cell_type": "code",
      "metadata": {
        "id": "76gCxB_4tD46"
      },
      "source": [
        "def SubirNivel(y, j, c):\n",
        "    \"\"\"  \n",
        "    Args:\n",
        "        y: (ndarray) Valores de la muestra\n",
        "        j: (int) \n",
        "        c: (ndarray) Coeficientes\n",
        "\n",
        "    Returns:\n",
        "        (z, cn): (tuple) Array y reordenado y lista de nuevos coeficientes ck\n",
        "    \"\"\"\n",
        "\n",
        "    L = c.shape[0] # Número de elementos del array unidimensional c\n",
        "    cn = np.zeros(L, dtype = np.csingle) # Array de los nuevos coeficientes, con elementos de tipo float complex\n",
        "    z = np.zeros(L) # Array y reordenado\n",
        "\n",
        "    # Calculamos los elementos del array de los nuevos coeficientes\n",
        "    for k in range(math.floor(L / 2)):\n",
        "        cn[k] = c[k] + cmath.exp(1j * k * cmath.pi / math.pow(2, j)) * c[k + math.floor(L / 2)]\n",
        "        cn[k + math.floor(L / 2)] = c[k] - cmath.exp(1j * k * cmath.pi / \n",
        "                                                    math.pow(2, j)) * c[k + math.floor(L / 2)]\n",
        "    # Reordenamos los elementos del array y\n",
        "    for i in range(math.floor(L/2)):\n",
        "        z[2*i] = y[i]\n",
        "        z[2*i+1] = y[math.floor(L / 2)+i]\n",
        "    \n",
        "    # Devolvemos una tupla de un ndarray y una lista\n",
        "    return (z, cn)\n"
      ],
      "execution_count": null,
      "outputs": []
    },
    {
      "cell_type": "code",
      "metadata": {
        "id": "zliVFlvDARmd"
      },
      "source": [
        "def TransformadaFourierRapida(m, y, verbose = False):\n",
        "    \"\"\"  \n",
        "    Calcula los coeficientes de la aproximación FFT\n",
        "\n",
        "    Args:\n",
        "        m: (int) Potencia de 2\n",
        "        y: (ndarray) Muestra inicial\n",
        "        verbose: (bool) Para mostrar o no los resultados relevantes\n",
        "\n",
        "    Returns:\n",
        "        (resultado, a, b): (tuple) Array de coeficientes ck, array de coeficientes \n",
        "            ak y array de coeficientes bk\n",
        "    \"\"\"\n",
        "\n",
        "    p = math.floor(math.log(m, 2))\n",
        "    z = y.copy()\n",
        "\n",
        "    for i in range(1, p + 1):\n",
        "        for j in range(1, int(math.pow(2, p - 1))+1):\n",
        "            # Creamos un ndarray auxiliar que guarda componentes específicas de z\n",
        "            start = (j - 1) * int(math.pow(2,  p + 2 - i))\n",
        "            end = j * int(math.pow(2, p + 2 - i))\n",
        "            aux = z[start : end].copy()\n",
        "            \n",
        "            # Reordenamos el ndarray aux: primero las posiciones pares y luego las impares\n",
        "            aux = np.concatenate((np.array([aux[i] for i in range(0,aux.shape[0], 2)]),\n",
        "                           np.array([aux[i] for i in range(1, aux.shape[0], 2)])))\n",
        "            \n",
        "            # Guardamos las primeras 2^(p + 2 - i) componentes del vector aux en las componentes\n",
        "            # correspondientes del vector z\n",
        "            z[start : (end - 1)] = aux[0 : int(math.pow(2, p + 2 - i)) - 1].copy()\n",
        "\n",
        "    # Guardamos el nuevo vector z en el vector permutado y\n",
        "    y = z.copy()\n",
        "\n",
        "    # Creamos el ndarry de coeficientes c indicando que el tipo de dato es float complex\n",
        "    c = np.zeros(2 * m, dtype = np.csingle)\n",
        "\n",
        "    # Calculamos las ck iniciales para las muestras de longitud 2\n",
        "    if verbose:\n",
        "        print(\"Coeficientes para las {} muestras\".format(m), end = \"\\n\\n\")\n",
        "\n",
        "    for i in range(m):\n",
        "        c[2 * i] = y[2 * i] + y[2 * i + 1]\n",
        "        c[2 * i + 1] = y[2 * i] - y[2 * i + 1]\n",
        "\n",
        "        if verbose:\n",
        "            print(\"Muestra {}: \\nc{} = {}; c{} = {}\".format(i + 1, 0, c[2 * i], 1, c[2 * i + 1]))\n",
        "\n",
        "    # Primer paso (2 --> 4)\n",
        "    if verbose:\n",
        "        print(\"\\n\\nPaso 2 --> 4\", end = \"\\n\\n\")\n",
        "    resultado = [0] * int(math.pow(2, p - 1))  # Será una lista de 2^(p - 1) tuplas\n",
        "    \n",
        "    for j in range(1, int(math.pow(2, p - 1)) + 1):\n",
        "        resultado[j - 1] = SubirNivel(y[((j - 1) * int(math.pow(2, 2))) : (j * int(math.pow(2, 2)))], 1,\n",
        "                                      c[((j-1) * int(math.pow(2, 2))):(j * int(math.pow(2, 2)))])\n",
        "        \n",
        "        if verbose:\n",
        "            print(\"Muestra {}: \\n{}\".format(j, resultado[j - 1][1]))\n",
        "\n",
        "    # Pasos restantes\n",
        "    for i in range(2, p + 1):\n",
        "        if verbose:\n",
        "            print(\"\\n\\nPaso {} --> {}\".format(math.pow(2, i), math.pow(2, i + 1)), end = \"\\n\\n\")\n",
        "        \n",
        "        resultadoN = [0] * int(math.pow(2, p - i)) # Será una lista de 2^(p - i) tuplas\n",
        "\n",
        "        for j in range(int(math.pow(2, p - i))):\n",
        "            yj = np.concatenate((resultado[2 * j][0], resultado[2 * j + 1][0]))\n",
        "            cj = np.concatenate((resultado[2 * j][1], resultado[2 * j + 1][1]))\n",
        "            print(\"yj\", yj)\n",
        "            print(\"cj\", cj)\n",
        "\n",
        "            resultadoN[j] = SubirNivel(yj, i, np.array(cj))\n",
        "            \n",
        "            if verbose:\n",
        "                print(\"Muestra {}: \\n{}\".format(j + 1, resultadoN[j][1]))\n",
        "        resultado = resultadoN\n",
        "\n",
        "    resultado = resultado[0][1]\n",
        "    \n",
        "    # Finalmente calculamos el valor de los coeficientes ak y bk\n",
        "    a = np.array([math.pow(-1, k) / m * resultado[k].real for k in range(0, m + 1)])\n",
        "    b = np.array([0 if np.isclose(0, math.pow(-1, k) / m * resultado[k].imag) else \n",
        "                math.pow(-1, k) / m * resultado[k].imag for k in range(1, m)])\n",
        "\n",
        "    if verbose:\n",
        "        print(\"\\n\\nresultado =\\n{}\".format(resultado))\n",
        "        print(\"a =\\n{}\".format(a))\n",
        "        print(\"b =\\n{}\".format(b))\n",
        "    return (resultado, a, b)"
      ],
      "execution_count": null,
      "outputs": []
    },
    {
      "cell_type": "markdown",
      "metadata": {
        "id": "U2DL-MorMQTA"
      },
      "source": [
        "Veamos un ejemplo considerando los siguientes datos:"
      ]
    },
    {
      "cell_type": "code",
      "metadata": {
        "id": "GsLJEscP2F-0"
      },
      "source": [
        "m = 4\n",
        "x = np.array([-math.pi + k * math.pi / m for k in range(2 * m)])\n",
        "y = np.array([math.pow(xk, 2) for xk in x])"
      ],
      "execution_count": null,
      "outputs": []
    },
    {
      "cell_type": "code",
      "metadata": {
        "colab": {
          "base_uri": "https://localhost:8080/"
        },
        "id": "TDUXovPD2ipk",
        "outputId": "3d55c542-626f-48c7-9bc7-f9f80c6972a3"
      },
      "source": [
        "resultado, a, b = TransformadaFourierRapida(m, y, verbose = True)"
      ],
      "execution_count": null,
      "outputs": [
        {
          "output_type": "stream",
          "name": "stdout",
          "text": [
            "Coeficientes para las 4 muestras\n",
            "\n",
            "Muestra 1: \n",
            "c0 = (9.869604110717773+0j); c1 = (9.869604110717773+0j)\n",
            "Muestra 2: \n",
            "c0 = (4.934802055358887+0j); c1 = 0j\n",
            "Muestra 3: \n",
            "c0 = (6.1685028076171875+0j); c1 = (4.934802055358887+0j)\n",
            "Muestra 4: \n",
            "c0 = (6.1685028076171875+0j); c1 = (-4.934802055358887+0j)\n",
            "\n",
            "\n",
            "Paso 2 --> 4\n",
            "\n",
            "Muestra 1: \n",
            "[14.804406+0.j  9.869604+0.j  4.934802+0.j  9.869604+0.j]\n",
            "Muestra 2: \n",
            "[12.337006+0.j        4.934802-4.934802j  0.      +0.j\n",
            "  4.934802+4.934802j]\n",
            "\n",
            "\n",
            "Paso 4.0 --> 8.0\n",
            "\n",
            "Muestra 1: \n",
            "[27.14141  +0.000000e+00j 16.848469 -4.440892e-16j\n",
            "  4.934802 +0.000000e+00j  2.8907402+4.440892e-16j\n",
            "  2.4674006+0.000000e+00j  2.8907402+4.440892e-16j\n",
            "  4.934802 +0.000000e+00j 16.848469 -4.440892e-16j]\n",
            "\n",
            "\n",
            "resultado =\n",
            "[27.14141  +0.000000e+00j 16.848469 -4.440892e-16j\n",
            "  4.934802 +0.000000e+00j  2.8907402+4.440892e-16j\n",
            "  2.4674006+0.000000e+00j  2.8907402+4.440892e-16j\n",
            "  4.934802 +0.000000e+00j 16.848469 -4.440892e-16j]\n",
            "a =\n",
            "[ 6.78535271 -4.2121172   1.23370051 -0.72268504  0.61685014]\n",
            "b =\n",
            "[0 0 0]\n"
          ]
        }
      ]
    },
    {
      "cell_type": "markdown",
      "metadata": {
        "id": "Q_9WgfEzMTPW"
      },
      "source": [
        "Calculemos el error cometido:"
      ]
    },
    {
      "cell_type": "code",
      "metadata": {
        "colab": {
          "base_uri": "https://localhost:8080/"
        },
        "id": "ExNGdPnKMUCG",
        "outputId": "8344118e-0650-4cc8-a0cc-00b3df3a3d5d"
      },
      "source": [
        "# Valores aproximados\n",
        "aprox = ValoresFFT(a, b, x, m)\n",
        "\n",
        "# Calculamos el error\n",
        "se = SE(y, aprox)\n",
        "print(\"SE =\", se)"
      ],
      "execution_count": null,
      "outputs": [
        {
          "output_type": "stream",
          "name": "stdout",
          "text": [
            "SE = 2.5491502779379736e-13\n"
          ]
        }
      ]
    },
    {
      "cell_type": "code",
      "metadata": {
        "colab": {
          "base_uri": "https://localhost:8080/",
          "height": 399
        },
        "id": "XT7fsGyvL9sq",
        "outputId": "9a2c7bd2-3f32-4312-aeee-ee8fb5317d0b"
      },
      "source": [
        "HelperPlotFFT(x, y, a, b)"
      ],
      "execution_count": null,
      "outputs": [
        {
          "output_type": "display_data",
          "data": {
            "image/png": "[encoded data removed]",
            "text/plain": [
              "<Figure size 640x480 with 1 Axes>"
            ]
          },
          "metadata": {}
        }
      ]
    },
    {
      "cell_type": "markdown",
      "metadata": {
        "id": "crj_d_DlL3cR"
      },
      "source": [
        "### FFT intervalo arbitrario\n"
      ]
    },
    {
      "cell_type": "markdown",
      "metadata": {
        "id": "mVUQvexLQCxE"
      },
      "source": [
        "La función transformada de Fourier en el intervalo $[a, b]$ es de la forma\n",
        "\n",
        "$$S_m(x) = \\frac{a_0 + a_m \\cos\\left(\\frac{2\\pi m}{b - a}\\left(t - \\frac{a + b}{2}\\right)\\right)}{2} + \\sum_{j = 1}^{m - 1}a_j\\cos\\left(\\frac{2\\pi j}{b - a}\\left(t - \\frac{a + b}{2}\\right)\\right) + \\sum_{j = 1}^{m - 1}b_j\\sin\\left(\\frac{2\\pi j}{b - a}\\left(t - \\frac{a + b}{2}\\right)\\right)$$\n",
        "\n",
        "con \n",
        "\n",
        "$$a_k = \\frac{1}{m}\\sum_{i = 0}^{2m - 1}y_i\\cos\\left(\\frac{2\\pi k}{b - a}\\left(t_i - \\frac{a + b}{2}\\right)\\right)\\quad k = 0, 1, \\dots, m$$\n",
        "\n",
        "$$b_k = \\frac{1}{m}\\sum_{i = 0}^{2m - 1}y_i\\sin\\left(\\frac{2\\pi k}{b - a}\\left(t_i - \\frac{a + b}{2}\\right)\\right)\\quad k = 0, 1, \\dots, m - 1$$"
      ]
    },
    {
      "cell_type": "code",
      "metadata": {
        "id": "xksOF8azRf7A"
      },
      "source": [
        "def TransformacionIntervalo(t, start, end):\n",
        "    \"\"\"\n",
        "    Dado un array de valores t definido en el intervalo [start, end], realizamos la transformacion\n",
        "    a los valores correspondientes definidos en el intervalo [-pi, pi]\n",
        "\n",
        "    Args:\n",
        "        t: (ndarray) Array de valores en el intervalo [start, end]\n",
        "        start: (int) Extremo inferior del intervalo [start, end] \n",
        "        end: (int) Extremo superior del intervalo [start, end] \n",
        "\n",
        "    Returns:\n",
        "        x: (ndarray) Array de valores en el intervalo [-pi, pi]\n",
        "    \"\"\"\n",
        "\n",
        "    x = (2 * math.pi) / (end - start) * (t - (start + end) / 2)\n",
        "    return x"
      ],
      "execution_count": null,
      "outputs": []
    },
    {
      "cell_type": "markdown",
      "metadata": {
        "id": "CiiE_wwpRFIw"
      },
      "source": [
        "Veamos un ejemplo considerando los siguientes datos:"
      ]
    },
    {
      "cell_type": "code",
      "metadata": {
        "id": "EuTDkI-x2m-s"
      },
      "source": [
        "m = 4\n",
        "t = np.array([k / (2 * m) for k in range(2 * m)])\n",
        "start = 0\n",
        "end = 1\n",
        "y = np.array([math.pow(tk, 2) for tk in t])"
      ],
      "execution_count": null,
      "outputs": []
    },
    {
      "cell_type": "code",
      "metadata": {
        "id": "xNoB8rvARRts"
      },
      "source": [
        "x = TransformacionIntervalo(t, start, end)"
      ],
      "execution_count": null,
      "outputs": []
    },
    {
      "cell_type": "code",
      "metadata": {
        "colab": {
          "base_uri": "https://localhost:8080/"
        },
        "id": "i96GBrERWGkG",
        "outputId": "7249e7fa-ce47-4229-b6dc-105206dc978d"
      },
      "source": [
        "resultado, a, b = TransformadaFourierRapida(m, y, verbose = True)"
      ],
      "execution_count": null,
      "outputs": [
        {
          "output_type": "stream",
          "name": "stdout",
          "text": [
            "Coeficientes para las 4 muestras\n",
            "\n",
            "Muestra 1: \n",
            "c0 = (0.25+0j); c1 = (-0.25+0j)\n",
            "Muestra 2: \n",
            "c0 = (0.625+0j); c1 = (-0.5+0j)\n",
            "Muestra 3: \n",
            "c0 = (0.40625+0j); c1 = (-0.375+0j)\n",
            "Muestra 4: \n",
            "c0 = (0.90625+0j); c1 = (-0.625+0j)\n",
            "\n",
            "\n",
            "Paso 2 --> 4\n",
            "\n",
            "Muestra 1: \n",
            "[ 0.875+0.j  -0.25 -0.5j -0.375+0.j  -0.25 +0.5j]\n",
            "Muestra 2: \n",
            "[ 1.3125+0.j    -0.375 -0.625j -0.5   +0.j    -0.375 +0.625j]\n",
            "\n",
            "\n",
            "Paso 4.0 --> 8.0\n",
            "\n",
            "Muestra 1: \n",
            "[ 2.1875    +0.j         -0.07322331-1.2071068j  -0.375     -0.5j\n",
            " -0.4267767 -0.20710678j -0.4375    +0.j         -0.4267767 +0.20710678j\n",
            " -0.375     +0.5j        -0.07322331+1.2071068j ]\n",
            "\n",
            "\n",
            "resultado =\n",
            "[ 2.1875    +0.j         -0.07322331-1.2071068j  -0.375     -0.5j\n",
            " -0.4267767 -0.20710678j -0.4375    +0.j         -0.4267767 +0.20710678j\n",
            " -0.375     +0.5j        -0.07322331+1.2071068j ]\n",
            "a =\n",
            "[ 0.546875    0.01830583 -0.09375     0.10669418 -0.109375  ]\n",
            "b =\n",
            "[ 0.30177671 -0.125       0.0517767 ]\n"
          ]
        }
      ]
    },
    {
      "cell_type": "markdown",
      "metadata": {
        "id": "O0OqRXq5WOgK"
      },
      "source": [
        "Calculemos el error cometido:"
      ]
    },
    {
      "cell_type": "code",
      "metadata": {
        "colab": {
          "base_uri": "https://localhost:8080/"
        },
        "id": "anowgoluWQuZ",
        "outputId": "2d0f12c3-f297-4122-ea66-a3630cfba133"
      },
      "source": [
        "# Valores aproximados\n",
        "aprox = ValoresFFT(a, b, x, m)\n",
        "\n",
        "# Calculamos el error\n",
        "se = SE(y, aprox)\n",
        "print(\"SE =\", se)"
      ],
      "execution_count": null,
      "outputs": [
        {
          "output_type": "stream",
          "name": "stdout",
          "text": [
            "SE = 6.036404401699298e-16\n"
          ]
        }
      ]
    },
    {
      "cell_type": "code",
      "metadata": {
        "colab": {
          "base_uri": "https://localhost:8080/",
          "height": 357
        },
        "id": "M8_HaZ6kRR_t",
        "outputId": "a33b1f2d-683a-4ac0-87a4-981fe6e50cae"
      },
      "source": [
        "# Plot en el intervalo [-pi, pi]\n",
        "HelperPlotFFT(x, y, a, b)"
      ],
      "execution_count": null,
      "outputs": [
        {
          "output_type": "display_data",
          "data": {
            "image/png": "[encoded data removed]",
            "text/plain": [
              "<Figure size 640x480 with 1 Axes>"
            ]
          },
          "metadata": {}
        }
      ]
    },
    {
      "cell_type": "code",
      "metadata": {
        "colab": {
          "base_uri": "https://localhost:8080/",
          "height": 212
        },
        "id": "WLFJnK1KWe5J",
        "outputId": "1ca237ff-0999-4fb6-bcba-b2e0a45a9219"
      },
      "source": [
        "# Plot en el intervalo [start, end]\n",
        "HelperPlotFFTIntevaloArbitrario(t, start, end, y, a, b)"
      ],
      "execution_count": null,
      "outputs": [
        {
          "output_type": "display_data",
          "data": {
            "image/png": "[encoded data removed]",
            "text/plain": [
              "<Figure size 640x480 with 1 Axes>"
            ]
          },
          "metadata": {}
        }
      ]
    },
    {
      "cell_type": "code",
      "metadata": {
        "id": "_7E9XgzteRt2"
      },
      "source": [],
      "execution_count": null,
      "outputs": []
    }
  ]
}