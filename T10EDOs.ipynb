{
  "nbformat": 4,
  "nbformat_minor": 0,
  "metadata": {
    "colab": {
      "name": "T10EDOs.ipynb",
      "provenance": [],
      "collapsed_sections": [],
      "toc_visible": true,
      "include_colab_link": true
    },
    "kernelspec": {
      "name": "python3",
      "display_name": "Python 3"
    },
    "language_info": {
      "name": "python"
    }
  },
  "cells": [
    {
      "cell_type": "markdown",
      "metadata": {
        "id": "view-in-github",
        "colab_type": "text"
      },
      "source": [
        "<a href=\"https://colab.research.google.com/github/bernaldiaz/curso-numerico-3/blob/main/T10EDOs.ipynb\" target=\"_parent\"><img src=\"https://colab.research.google.com/assets/colab-badge.svg\" alt=\"Open In Colab\"/></a>"
      ]
    },
    {
      "cell_type": "markdown",
      "metadata": {
        "id": "oOXoQwJQVkQF"
      },
      "source": [
        "# Tema 10 - EDOs"
      ]
    },
    {
      "cell_type": "markdown",
      "metadata": {
        "id": "RTvGtxVlXc2A"
      },
      "source": [
        "## Librerías y Funciones Necesarias"
      ]
    },
    {
      "cell_type": "code",
      "metadata": {
        "id": "vhchAzBeV-ZL"
      },
      "source": [
        "import math\n",
        "import numpy as np\n",
        "import pandas as pd\n",
        "import sympy as sp\n",
        "from sympy.solvers import solve\n",
        "from plotnine import *\n",
        "import functools"
      ],
      "execution_count": null,
      "outputs": []
    },
    {
      "cell_type": "code",
      "metadata": {
        "id": "8CrqEJKTw3GW"
      },
      "source": [
        "def NewtonRaphson(x0, f, symbol, TOL = 1e-10, nMax = 100, verbose = False):\n",
        "    \"\"\"\n",
        "    Dada una función f definida en los números reales dónde f'(x0) és distinto de 0, \n",
        "    devuelve un cero de la función usando el método de Newton-Raphson.\n",
        "    \n",
        "    Args:\n",
        "        x0: (float) Valor inicial\n",
        "        TOL: (float) Tolerancia\n",
        "        nMax: (int) Número máximo de iteraciones\n",
        "        f: (fun) Función definida en los números reales\n",
        "        symbol: (Symbol) Variable independiente de la función f\n",
        "        verbose: (bool) Para mostrar o no los resultados relevantes\n",
        "    \n",
        "    Returns: \n",
        "        cero: (float) Valor que se aproxima a un cero de f\n",
        "    \"\"\" \n",
        "\n",
        "    cero = x0\n",
        "    aux = x0 + 1\n",
        "    fd = sp.diff(f, symbol)\n",
        "    for _ in range(nMax):\n",
        "        if abs(cero - aux) < TOL:\n",
        "            if verbose:\n",
        "                print(\"cero =\", cero)\n",
        "            return cero\n",
        "        aux = cero\n",
        "        cero -= f.evalf(subs = {symbol: cero}) / fd.evalf(subs = {symbol: cero})\n",
        "\n",
        "    print(\"Se ha superado el número máximo de iteraciones.\")   \n",
        "    return "
      ],
      "execution_count": null,
      "outputs": []
    },
    {
      "cell_type": "code",
      "metadata": {
        "id": "GN8R6W8ZkQ7B"
      },
      "source": [
        "def HelperPlot(df):\n",
        "    \"\"\"\n",
        "    Dado un dataframe df que contiene las columnas t, yHat e y, muestra un \n",
        "    gráfico donde se muestran yHat e y en función de t\n",
        "    \n",
        "    Args:\n",
        "        df: (Dataframe) Solución de los métodos del tema 10 del curso\n",
        "    \"\"\" \n",
        "    \n",
        "    h = df[\"t\"][1] - df[\"t\"][0]\n",
        "    dmod = pd.melt(df, id_vars=[\"t\"], value_vars = [\"y\", \"yHat\"]) \n",
        "    p = ggplot(dmod, aes(x = \"t\", y = \"value\", color = \"variable\", \n",
        "                        linetype = \"variable\", size = \"variable\"))\n",
        "    (p + geom_line()\n",
        "    + geom_point()\n",
        "    + ylab(\"\")\n",
        "    + xlim(df[\"t\"].iloc[0] - h, df[\"t\"].iloc[-1] + h)\n",
        "    + scale_color_manual([\"blue\", \"red\"], name = \"Funciones\")\n",
        "    + scale_linetype_manual([\"solid\", \"\"], name = \"Funciones\")\n",
        "    + scale_shape_manual([20, 19], name = \"Funciones\")\n",
        "    + scale_size_manual([0.5, 2], name = \"Funciones\")    \n",
        "    ).draw();\n"
      ],
      "execution_count": null,
      "outputs": []
    },
    {
      "cell_type": "code",
      "metadata": {
        "id": "0LAWljcRGzb2"
      },
      "source": [
        "def HelperPlotSistema(df):\n",
        "    \"\"\"\n",
        "    Dado un dataframe df que contiene las columnas t, yHat1, ..., yHatm, e y1, ..., ym, \n",
        "    muestra un gráfico donde se muestran yHat_i e y_i en función de t\n",
        "    \n",
        "    Args:\n",
        "        df: (Dataframe) Solución de los métodos del tema 10 del curso\n",
        "    \"\"\" \n",
        "    \n",
        "    h = df[\"t\"][1] - df[\"t\"][0]\n",
        "    m = int(len(df.columns) / 2 - 1)\n",
        "\n",
        "    yVars = [\"y\" + str(i) for i in range(1, m + 1)]\n",
        "    yHatVars = [\"yHat\" + str(i) for i in range(1, m + 1)]\n",
        "\n",
        "    ydf = pd.melt(df, id_vars = [\"t\"], value_vars = yVars,\n",
        "                   var_name = \"yVar\", value_name = \"yVal\")\n",
        "    \n",
        "    yHatdf = pd.melt(df, id_vars = [\"t\"], value_vars = yHatVars,\n",
        "                   var_name = \"yHatVar\", value_name = \"yHatVal\")\n",
        "    yHatdf.drop(\"t\", inplace = True, axis = 1)\n",
        "\n",
        "    dmod = pd.concat([ydf, yHatdf], axis = 1)\n",
        "\n",
        "    colorsBright = [\"#FF0000\", \"#FFA500\", \"#FFFF00\", \"#008000\", \"#0000FF\", \"#4B0082\", \"#EE82EE\"]\n",
        "    colorsDark = [\"#CC0000\", \"#CC8500\", \"#CCCC00\", \"#004D00\", \"#0000CC\", \"#2E004F\", \"#BA66BA\"]\n",
        "\n",
        "    p = ggplot(dmod, aes(x = \"t\"))\n",
        "    (p \n",
        "     + geom_line(aes(y = \"yVal\", color = \"yVar\"), size = 0.5)\n",
        "     + scale_color_manual(colorsDark[:m], name = \"Funciones y_i\")\n",
        "     + geom_point(aes(y = \"yHatVal\", fill = \"yHatVar\"), size = 2)\n",
        "     + scale_fill_manual(colorsDark[:m], name = \"Funciones yHat_i\")\n",
        "     + ylab(\"\")\n",
        "     + xlim(df[\"t\"].iloc[0] - h, df[\"t\"].iloc[-1] + h)\n",
        "     ).draw();\n"
      ],
      "execution_count": null,
      "outputs": []
    },
    {
      "cell_type": "code",
      "metadata": {
        "id": "S3WUp7GFCFyi"
      },
      "source": [
        "def DerivadaFOrdenN(f, n, tSymbol, ySymbol):\n",
        "  f_original = f\n",
        "  for _ in range(n):\n",
        "    f = sp.simplify(sp.diff(f, tSymbol) + sp.diff(f, ySymbol) * f_original)\n",
        "\n",
        "  return f"
      ],
      "execution_count": null,
      "outputs": []
    },
    {
      "cell_type": "markdown",
      "metadata": {
        "id": "fNmSFJzyXhKd"
      },
      "source": [
        "## Método de Euler"
      ]
    },
    {
      "cell_type": "markdown",
      "metadata": {
        "id": "EqAlEHCEUE38"
      },
      "source": [
        "El **Método de Euler** ofrece la solución aproximada en el punto del mallado $t_{i + 1} = t_i + h$, $\\hat{y}_{i + 1} = \\hat{y}(t_i + h)$, usando la siguiente expresión del desarrollo de Taylor de la función $\\hat{y}(t)$:\n",
        "\n",
        "$$\\hat{y}_{i + 1} = \\hat{y}_i + h\\cdot f(t_i, \\hat{y}_i),\\qquad i = 0,\\dots, n - 1,\\quad \\hat{y}_0 = y_0$$"
      ]
    },
    {
      "cell_type": "code",
      "metadata": {
        "id": "lg6dfOLkIUno"
      },
      "source": [
        "def MetodoEuler(a, b, n, y0, f, y = None, verbose = False, complete = False):\n",
        "    \"\"\"\n",
        "    Ofrece una solución aproximada en el punto del mallado \n",
        "    t_{i + 1} = t_i + h, y^{hat}_{i + 1} = y^{hat}(t_i + h)  \n",
        "\n",
        "    Args:\n",
        "        a: (float) Valor inicial\n",
        "        b: (float) Valor final\n",
        "        n: (int) Número de aproximaciones\n",
        "        y0: (float) Condición inicial\n",
        "        f: (fun) Función f(t, y)\n",
        "        y: (fun) Función y(t) original. Parámetro opcional.\n",
        "        verbose: (bool) Para mostrar o no los resultados relevantes\n",
        "        complete: (bool) Para devolver o no el dataframe completo de resultados.\n",
        "            Si vale True, entonces y debe ser distinto de None\n",
        "\n",
        "    Returns:\n",
        "        yHat: (ndarray) Vector de aproximaciones si complete = False\n",
        "              (dataframe) Dataframe con los datos t, yHat, y e |y - yHat|\n",
        "                para cada iteración si complete = True\n",
        "    \"\"\"\n",
        "\n",
        "    if complete and y == None:\n",
        "        print(\"Si complete = True, entonces debes indicar una función para el parámetro y\")\n",
        "        return\n",
        "\n",
        "    h = (b - a) / n\n",
        "    if (verbose):\n",
        "        print(\"h =\", h, end = \"\\n\\n\")\n",
        "\n",
        "    t = np.zeros(n + 1) # Ponemos n + 1 porque también incluimos el índice 0\n",
        "    t[0] = a\n",
        "\n",
        "    yHat = np.zeros(n + 1)\n",
        "    yHat[0] = y0 # La primera componente del vector de aproximaciones vale la condición inicial\n",
        "\n",
        "    if (y != None):\n",
        "        yOriginal = np.zeros(n + 1)\n",
        "        yOriginal[0] = y(t[0])\n",
        "\n",
        "    for i in range(1, n + 1):\n",
        "        t[i] = a + i * h \n",
        "        yHat[i] = yHat[i - 1] + h * f(t[i - 1], yHat[i - 1]) # Calculamos yHat(t + i * h)\n",
        "        if (y != None):\n",
        "            yOriginal[i] = y(t[i])\n",
        "\n",
        "        \n",
        "    \n",
        "    data = pd.DataFrame({\"t\": t, \"yHat\": yHat})\n",
        "    if (y != None):\n",
        "        data[\"y\"] = yOriginal\n",
        "        data[\"|y - yHat|\"] = abs(yOriginal - yHat)\n",
        "    if verbose:\n",
        "        print(data)\n",
        "    \n",
        "    if complete:\n",
        "        return data\n",
        "    return yHat"
      ],
      "execution_count": null,
      "outputs": []
    },
    {
      "cell_type": "code",
      "metadata": {
        "id": "aRvDv8MlKjy-"
      },
      "source": [
        "a = 1\n",
        "b = 3\n",
        "n = 20 # De este modo conseguimos h = 0.1\n",
        "y0 = 2\n",
        "\n",
        "def f(t, y):\n",
        "    return (1 + t) / (1 + y)\n",
        "\n",
        "def y(t):\n",
        "    return math.sqrt(math.pow(t, 2) + 2 * t + 6) - 1"
      ],
      "execution_count": null,
      "outputs": []
    },
    {
      "cell_type": "code",
      "metadata": {
        "colab": {
          "base_uri": "https://localhost:8080/"
        },
        "id": "ttbVE4FDKgR-",
        "outputId": "33ba0302-2a3f-490d-c75b-72bab551e203"
      },
      "source": [
        "yHat = MetodoEuler(a, b, n, y0, f, y = y, verbose = True)"
      ],
      "execution_count": null,
      "outputs": [
        {
          "output_type": "stream",
          "name": "stdout",
          "text": [
            "h = 0.1\n",
            "\n",
            "      t      yHat         y  |y - yHat|\n",
            "0   1.0  2.000000  2.000000    0.000000\n",
            "1   1.1  2.066667  2.067572    0.000906\n",
            "2   1.2  2.135145  2.136877    0.001733\n",
            "3   1.3  2.205317  2.207803    0.002486\n",
            "4   1.4  2.277073  2.280244    0.003171\n",
            "5   1.5  2.350309  2.354102    0.003793\n",
            "6   1.6  2.424929  2.429286    0.004357\n",
            "7   1.7  2.500843  2.505710    0.004867\n",
            "8   1.8  2.577967  2.583295    0.005327\n",
            "9   1.9  2.656224  2.661967    0.005743\n",
            "10  2.0  2.735541  2.741657    0.006117\n",
            "11  2.1  2.815850  2.822303    0.006453\n",
            "12  2.2  2.897090  2.903844    0.006754\n",
            "13  2.3  2.979203  2.986226    0.007023\n",
            "14  2.4  3.062134  3.069398    0.007264\n",
            "15  2.5  3.145834  3.153312    0.007478\n",
            "16  2.6  3.230256  3.237924    0.007668\n",
            "17  2.7  3.315357  3.323193    0.007836\n",
            "18  2.8  3.401098  3.409082    0.007984\n",
            "19  2.9  3.487440  3.495553    0.008114\n",
            "20  3.0  3.574349  3.582576    0.008227\n"
          ]
        }
      ]
    },
    {
      "cell_type": "code",
      "metadata": {
        "id": "42KJQQkeXF6a",
        "colab": {
          "base_uri": "https://localhost:8080/",
          "height": 447
        },
        "outputId": "c54f925a-517d-4c2e-dee5-621e64d42b8d"
      },
      "source": [
        "df = MetodoEuler(a, b, n, y0, f, y = y, verbose = False, complete = True)\n",
        "HelperPlot(df)"
      ],
      "execution_count": null,
      "outputs": [
        {
          "output_type": "display_data",
          "data": {
            "image/png": "[encoded data removed]",
            "text/plain": [
              "<Figure size 640x480 with 1 Axes>"
            ]
          },
          "metadata": {}
        }
      ]
    },
    {
      "cell_type": "markdown",
      "metadata": {
        "id": "zZi7OzXOP8hp"
      },
      "source": [
        "## Método de Taylor de orden 2"
      ]
    },
    {
      "cell_type": "markdown",
      "metadata": {
        "id": "OwUsg9SWQU2E"
      },
      "source": [
        "El **Método de Taylor de orden 2** resuelve la ecuación en diferencias siguiente\n",
        "\n",
        "$$\\hat{y}_{i + 1} = \\hat{y}_i + h\\left(f_i + \\frac{h}{2}\\left(f_{t,i}^{(1)} + f_{y, i}^{(1)}\\cdot f_i\\right)\\right),\\quad \\hat{y}_0 = y_0$$\n",
        "\n",
        "siendo,\n",
        "\n",
        "$$f_i = f\\left(f_i, \\hat{y}_i\\right),\\quad f_{t, i}^{(1)} = \\frac{\\partial f}{\\partial t}\\left(t_i, \\hat{y}_i\\right),\\quad f_{y, i}^{(1)} = \\frac{\\partial f}{\\partial y}\\left(t_i, \\hat{y}_i\\right)$$"
      ]
    },
    {
      "cell_type": "code",
      "metadata": {
        "id": "l2Ui2YxuK32p"
      },
      "source": [
        "def MetodoTaylor2(a, b, n, y0, f, ft, fy, y = None, verbose = False, complete = False):\n",
        "    \"\"\"\n",
        "    Ofrece una solución a la ecuación en diferencias mostrada\n",
        "    anteriormente\n",
        "\n",
        "    Args:\n",
        "        a: (float) Valor inicial\n",
        "        b: (float) Valor final\n",
        "        n: (int) Número de aproximaciones\n",
        "        y0: (float) Condición inicial\n",
        "        f: (fun) Función f(t, y)\n",
        "        ft: (fun) Función f_{t}(t, y)\n",
        "        fy: (fun) Función f_{y}(t, y)\n",
        "        y: (fun) Función y(t) original. Parámetro opcional.\n",
        "        verbose: (bool) Para mostrar o no los resultados relevantes\n",
        "        complete: (bool) Para devolver o no el dataframe completo de resultados.\n",
        "            Si vale True, entonces y debe ser distinto de None\n",
        "\n",
        "    Returns:\n",
        "        yHat: (ndarray) Vector de aproximaciones si complete = False\n",
        "              (dataframe) Dataframe con los datos t, yHat, y e |y - yHat|\n",
        "                para cada iteración si complete = True\n",
        "    \"\"\"\n",
        "\n",
        "    if complete and y == None:\n",
        "        print(\"Si complete = True, entonces debes indicar una función para el parámetro y\")\n",
        "        return\n",
        "\n",
        "    h = (b - a) / n\n",
        "    if (verbose):\n",
        "        print(\"h =\", h, end = \"\\n\\n\")\n",
        "\n",
        "    t = np.zeros(n + 1) # Ponemos n + 1 porque también incluimos el índice 0\n",
        "    t[0] = a\n",
        "\n",
        "    yHat = np.zeros(n + 1)\n",
        "    yHat[0] = y0 # La primera componente del vector de aproximaciones vale la condición inicial\n",
        "    if (y != None):\n",
        "        yOriginal = np.zeros(n + 1)\n",
        "        yOriginal[0] = y(t[0])\n",
        "\n",
        "    for i in range(1, n + 1):\n",
        "        t[i] = a + i * h \n",
        "        yHat[i] = yHat[i - 1] + h * (f(t[i - 1], yHat[i - 1]) + h / 2 * (ft(t[i - 1], yHat[i - 1]) + fy(t[i - 1], yHat[i - 1]) * f(t[i - 1], yHat[i - 1])))\n",
        "        if (y != None):\n",
        "            yOriginal[i] = y(t[i])\n",
        "\n",
        "    data = pd.DataFrame({\"t\": t, \"yHat\": yHat})\n",
        "    if (y != None):\n",
        "        data[\"y\"] = yOriginal\n",
        "        data[\"|y - yHat|\"] = abs(yOriginal - yHat)\n",
        "    if verbose:\n",
        "        print(data)\n",
        "    \n",
        "    if complete:\n",
        "        return data\n",
        "    return yHat"
      ],
      "execution_count": null,
      "outputs": []
    },
    {
      "cell_type": "code",
      "metadata": {
        "id": "Je5-ekrwSq5E"
      },
      "source": [
        "a = 1\n",
        "b = 3\n",
        "n = 20 # De este modo conseguimos h = 0.1\n",
        "y0 = 2\n",
        "\n",
        "def f(t, y):\n",
        "    return (1 + t) / (1 + y)\n",
        "\n",
        "def ft(t, y):\n",
        "    return 1 / (1 + y)\n",
        "\n",
        "def fy(t, y):\n",
        "    return -(1 + t) / math.pow(1 + y, 2)\n",
        "\n",
        "def y(t):\n",
        "    return math.sqrt(math.pow(t, 2) + 2 * t + 6) - 1"
      ],
      "execution_count": null,
      "outputs": []
    },
    {
      "cell_type": "code",
      "metadata": {
        "colab": {
          "base_uri": "https://localhost:8080/"
        },
        "id": "pb2RZaGASvo9",
        "outputId": "ad989fd1-60fd-4e22-b361-3ee40053b3fb"
      },
      "source": [
        "yHat = MetodoTaylor2(a, b, n, y0, f, ft, fy, y = y, verbose = True)"
      ],
      "execution_count": null,
      "outputs": [
        {
          "output_type": "stream",
          "name": "stdout",
          "text": [
            "h = 0.1\n",
            "\n",
            "      t      yHat         y  |y - yHat|\n",
            "0   1.0  2.000000  2.000000    0.000000\n",
            "1   1.1  2.067593  2.067572    0.000020\n",
            "2   1.2  2.136916  2.136877    0.000039\n",
            "3   1.3  2.207859  2.207803    0.000056\n",
            "4   1.4  2.280315  2.280244    0.000071\n",
            "5   1.5  2.354187  2.354102    0.000085\n",
            "6   1.6  2.429383  2.429286    0.000098\n",
            "7   1.7  2.505819  2.505710    0.000109\n",
            "8   1.8  2.583414  2.583295    0.000119\n",
            "9   1.9  2.662095  2.661967    0.000128\n",
            "10  2.0  2.741794  2.741657    0.000136\n",
            "11  2.1  2.822447  2.822303    0.000144\n",
            "12  2.2  2.903994  2.903844    0.000150\n",
            "13  2.3  2.986382  2.986226    0.000155\n",
            "14  2.4  3.069558  3.069398    0.000160\n",
            "15  2.5  3.153476  3.153312    0.000165\n",
            "16  2.6  3.238092  3.237924    0.000168\n",
            "17  2.7  3.323365  3.323193    0.000171\n",
            "18  2.8  3.409256  3.409082    0.000174\n",
            "19  2.9  3.495730  3.495553    0.000176\n",
            "20  3.0  3.582754  3.582576    0.000178\n"
          ]
        }
      ]
    },
    {
      "cell_type": "code",
      "metadata": {
        "colab": {
          "base_uri": "https://localhost:8080/",
          "height": 447
        },
        "id": "gALwyrsUd6Or",
        "outputId": "efe33833-f487-4576-9f48-075f15309483"
      },
      "source": [
        "df = MetodoTaylor2(a, b, n, y0, f, ft, fy, y = y, verbose = False, complete = True)\n",
        "HelperPlot(df)"
      ],
      "execution_count": null,
      "outputs": [
        {
          "output_type": "display_data",
          "data": {
            "image/png": "[encoded data removed]",
            "text/plain": [
              "<Figure size 640x480 with 1 Axes>"
            ]
          },
          "metadata": {}
        }
      ]
    },
    {
      "cell_type": "markdown",
      "metadata": {
        "id": "AzNCmlklgEBs"
      },
      "source": [
        "### Método de Taylor de orden 2 con `sympy`\n"
      ]
    },
    {
      "cell_type": "code",
      "metadata": {
        "id": "vkeVRT7DwEwp"
      },
      "source": [
        "def MetodoTaylor2Sympy(a, b, n, y0, f, tSymbol, ySymbol, y = None, verbose = False, complete = False):\n",
        "    \"\"\"\n",
        "    Ofrece una solución a la ecuación en diferencias mostrada\n",
        "    anteriormente\n",
        "\n",
        "    Args:\n",
        "        a: (float) Valor inicial\n",
        "        b: (float) Valor final\n",
        "        n: (int) Número de aproximaciones\n",
        "        y0: (float) Condición inicial\n",
        "        f: (sympy expr) Función f(t, y)\n",
        "        tSymbol: (Symbol) Símbolo de sympy que representa a la variable t de la función f\n",
        "        ySymbol: (Symbol) Símbolo de sympy que representa a la variable y de la función f\n",
        "        y: (fun) Función y(t) original. Parámetro opcional.\n",
        "        verbose: (bool) Para mostrar o no los resultados relevantes\n",
        "        complete: (bool) Para devolver o no el dataframe completo de resultados.\n",
        "            Si vale True, entonces y debe ser distinto de None\n",
        "\n",
        "    Returns:\n",
        "        yHat: (ndarray) Vector de aproximaciones si complete = False\n",
        "              (dataframe) Dataframe con los datos t, yHat, y e |y - yHat|\n",
        "                para cada iteración si complete = True\n",
        "    \"\"\"\n",
        "\n",
        "    if complete and y == None:\n",
        "        print(\"Si complete = True, entonces debes indicar una función para el parámetro y\")\n",
        "        return\n",
        "\n",
        "    ft = sp.diff(f, tSymbol)\n",
        "    fy = sp.diff(f, ySymbol)\n",
        "\n",
        "    h = (b - a) / n\n",
        "    if (verbose):\n",
        "        print(\"h =\", h, end = \"\\n\\n\")\n",
        "\n",
        "    t = np.zeros(n + 1) # Ponemos n + 1 porque también incluimos el índice 0\n",
        "    t[0] = a\n",
        "\n",
        "    yHat = np.zeros(n + 1)\n",
        "    yHat[0] = y0 # La primera componente del vector de aproximaciones vale la condición inicial\n",
        "    if (y != None):\n",
        "        yOriginal = np.zeros(n + 1)\n",
        "        yOriginal[0] = y(t[0])\n",
        "\n",
        "    for i in range(1, n + 1):\n",
        "        t[i] = a + i * h \n",
        "        yHat[i] = yHat[i - 1] + h * (f.evalf(subs = {tSymbol: t[i - 1], ySymbol: yHat[i - 1]}) + \n",
        "                                     h / 2 * (ft.evalf(subs = {tSymbol: t[i - 1], ySymbol: yHat[i - 1]}) + \n",
        "                                              fy.evalf(subs = {tSymbol: t[i - 1], ySymbol: yHat[i - 1]}) * \n",
        "                                              f.evalf(subs = {tSymbol: t[i - 1], ySymbol: yHat[i - 1]})))\n",
        "        if (y != None):\n",
        "            yOriginal[i] = y(t[i])\n",
        "\n",
        "    data = pd.DataFrame({\"t\": t, \"yHat\": yHat})\n",
        "    if (y != None):\n",
        "            data[\"y\"] = yOriginal\n",
        "            data[\"|y - yHat|\"] = abs(yOriginal - yHat)\n",
        "    if verbose:\n",
        "        print(data)\n",
        "    \n",
        "    if complete:\n",
        "        return data\n",
        "    return yHat"
      ],
      "execution_count": null,
      "outputs": []
    },
    {
      "cell_type": "code",
      "metadata": {
        "id": "dhSFWEahyPua"
      },
      "source": [
        "a = 1\n",
        "b = 3\n",
        "n = 20 # De este modo conseguimos h = 0.1\n",
        "y0 = 2\n",
        "\n",
        "tSymb = sp.Symbol('tSymb')\n",
        "ySymb = sp.Symbol('ySymb')\n",
        "\n",
        "f = (1 + tSymb) / (1 + ySymb)\n",
        "\n",
        "def y(t):\n",
        "    return math.sqrt(math.pow(t, 2) + 2 * t + 6) - 1"
      ],
      "execution_count": null,
      "outputs": []
    },
    {
      "cell_type": "code",
      "metadata": {
        "colab": {
          "base_uri": "https://localhost:8080/"
        },
        "id": "ye9B9xpxyO-N",
        "outputId": "635f1fc5-8296-4616-f544-d4cc640822f3"
      },
      "source": [
        "yHat = MetodoTaylor2Sympy(a, b, n, y0, f, tSymb, ySymb, y = y, verbose = True)"
      ],
      "execution_count": null,
      "outputs": [
        {
          "output_type": "stream",
          "name": "stdout",
          "text": [
            "h = 0.1\n",
            "\n",
            "      t      yHat         y  |y - yHat|\n",
            "0   1.0  2.000000  2.000000    0.000000\n",
            "1   1.1  2.067593  2.067572    0.000020\n",
            "2   1.2  2.136916  2.136877    0.000039\n",
            "3   1.3  2.207859  2.207803    0.000056\n",
            "4   1.4  2.280315  2.280244    0.000071\n",
            "5   1.5  2.354187  2.354102    0.000085\n",
            "6   1.6  2.429383  2.429286    0.000098\n",
            "7   1.7  2.505819  2.505710    0.000109\n",
            "8   1.8  2.583414  2.583295    0.000119\n",
            "9   1.9  2.662095  2.661967    0.000128\n",
            "10  2.0  2.741794  2.741657    0.000136\n",
            "11  2.1  2.822447  2.822303    0.000144\n",
            "12  2.2  2.903994  2.903844    0.000150\n",
            "13  2.3  2.986382  2.986226    0.000155\n",
            "14  2.4  3.069558  3.069398    0.000160\n",
            "15  2.5  3.153476  3.153312    0.000165\n",
            "16  2.6  3.238092  3.237924    0.000168\n",
            "17  2.7  3.323365  3.323193    0.000171\n",
            "18  2.8  3.409256  3.409082    0.000174\n",
            "19  2.9  3.495730  3.495553    0.000176\n",
            "20  3.0  3.582754  3.582576    0.000178\n"
          ]
        }
      ]
    },
    {
      "cell_type": "code",
      "metadata": {
        "colab": {
          "base_uri": "https://localhost:8080/",
          "height": 447
        },
        "id": "WsDXH_0byv_Y",
        "outputId": "66ca0dcd-0b01-4865-afbf-eda8fe6f10f6"
      },
      "source": [
        "df = MetodoTaylor2Sympy(a, b, n, y0, f, tSymb, ySymb, y = y, verbose = False, complete = True)\n",
        "HelperPlot(df)"
      ],
      "execution_count": null,
      "outputs": [
        {
          "output_type": "display_data",
          "data": {
            "image/png": "[encoded data removed]",
            "text/plain": [
              "<Figure size 640x480 with 1 Axes>"
            ]
          },
          "metadata": {}
        }
      ]
    },
    {
      "cell_type": "markdown",
      "metadata": {
        "id": "kY8WDs8q5kdt"
      },
      "source": [
        "### Método de Taylor de orden $k$ con `sympy`"
      ]
    },
    {
      "cell_type": "code",
      "metadata": {
        "id": "m79Mm16y5oDa"
      },
      "source": [
        "def MetodoTaylorKSympy(a, b, n, y0, k, f, tSymbol, ySymbol, y = None, verbose = False, complete = False):\n",
        "    \"\"\"\n",
        "    Ofrece una solución a la ecuación en diferencias mostrada\n",
        "    anteriormente\n",
        "\n",
        "    Args:\n",
        "        a: (float) Valor inicial\n",
        "        b: (float) Valor final\n",
        "        n: (int) Número de aproximaciones\n",
        "        y0: (float) Condición inicial\n",
        "        k: (int) Orden del Método de Taylor\n",
        "        f: (sympy expr) Función f(t, y)\n",
        "        tSymbol: (Symbol) Símbolo de sympy que representa a la variable t de la función f\n",
        "        ySymbol: (Symbol) Símbolo de sympy que representa a la variable y de la función f\n",
        "        y: (fun) Función y(t) original. Parámetro opcional.\n",
        "        verbose: (bool) Para mostrar o no los resultados relevantes\n",
        "        complete: (bool) Para devolver o no el dataframe completo de resultados.\n",
        "            Si vale True, entonces y debe ser distinto de None\n",
        "\n",
        "    Returns:\n",
        "        yHat: (ndarray) Vector de aproximaciones si complete = False\n",
        "              (dataframe) Dataframe con los datos t, yHat, y e |y - yHat|\n",
        "                para cada iteración si complete = True\n",
        "    \"\"\"\n",
        "\n",
        "    if complete and y == None:\n",
        "        print(\"Si complete = True, entonces debes indicar una función para el parámetro y\")\n",
        "        return\n",
        "\n",
        "    h = (b - a) / n\n",
        "    if (verbose):\n",
        "        print(\"h =\", h, end = \"\\n\\n\")\n",
        "\n",
        "    t = np.zeros(n + 1) # Ponemos n + 1 porque también incluimos el índice 0\n",
        "    t[0] = a\n",
        "\n",
        "    yHat = np.zeros(n + 1)\n",
        "    yHat[0] = y0 # La primera componente del vector de aproximaciones vale la condición inicial\n",
        "    if (y != None):\n",
        "        yOriginal = np.zeros(n + 1)\n",
        "        yOriginal[0] = y(t[0])\n",
        "\n",
        "    for i in range(1, n + 1):\n",
        "        t[i] = a + i * h \n",
        "        aux = yHat[i - 1] + h * f.evalf(subs = {tSymbol: t[i - 1], ySymbol: yHat[i - 1]})\n",
        "        for j in range(1, k):\n",
        "            aux += (math.pow(h, j + 1) / math.factorial(j + 1) * \n",
        "                    DerivadaFOrdenN(f, j, tSymbol, ySymbol).evalf(subs = {tSymbol: t[i - 1], ySymbol: yHat[i - 1]}))\n",
        "\n",
        "        yHat[i] = aux\n",
        "        if (y != None):\n",
        "            yOriginal[i] = y(t[i])\n",
        "\n",
        "    data = pd.DataFrame({\"t\": t, \"yHat\": yHat})\n",
        "    if (y != None):\n",
        "            data[\"y\"] = yOriginal\n",
        "            data[\"|y - yHat|\"] = abs(yOriginal - yHat)\n",
        "    if verbose:\n",
        "        print(data)\n",
        "    \n",
        "    if complete:\n",
        "        return data\n",
        "    return yHat"
      ],
      "execution_count": null,
      "outputs": []
    },
    {
      "cell_type": "code",
      "metadata": {
        "id": "y8AfyiSCJYz0"
      },
      "source": [
        "a = 1\n",
        "b = 3\n",
        "n = 20 # De este modo conseguimos h = 0.1\n",
        "y0 = 2\n",
        "k = 4\n",
        "\n",
        "tSymb = sp.Symbol('tSymb')\n",
        "ySymb = sp.Symbol('ySymb')\n",
        "\n",
        "f = (1 + tSymb) / (1 + ySymb)\n",
        "\n",
        "def y(t):\n",
        "    return math.sqrt(math.pow(t, 2) + 2 * t + 6) - 1"
      ],
      "execution_count": null,
      "outputs": []
    },
    {
      "cell_type": "code",
      "metadata": {
        "colab": {
          "base_uri": "https://localhost:8080/"
        },
        "id": "rEETywkBJTGT",
        "outputId": "4339aa57-cfdf-41dd-a4c4-733668727ff9"
      },
      "source": [
        "yHat = MetodoTaylorKSympy(a, b, n, y0, k, f, tSymb, ySymb, y = y, verbose = True)"
      ],
      "execution_count": null,
      "outputs": [
        {
          "output_type": "stream",
          "name": "stdout",
          "text": [
            "h = 0.1\n",
            "\n",
            "      t      yHat         y    |y - yHat|\n",
            "0   1.0  2.000000  2.000000  0.000000e+00\n",
            "1   1.1  2.067572  2.067572  7.828791e-10\n",
            "2   1.2  2.136877  2.136877  2.317365e-09\n",
            "3   1.3  2.207803  2.207803  4.384810e-09\n",
            "4   1.4  2.280244  2.280244  6.804707e-09\n",
            "5   1.5  2.354102  2.354102  9.431442e-09\n",
            "6   1.6  2.429286  2.429286  1.215023e-08\n",
            "7   1.7  2.505710  2.505710  1.487279e-08\n",
            "8   1.8  2.583295  2.583295  1.753312e-08\n",
            "9   1.9  2.661967  2.661967  2.008353e-08\n",
            "10  2.0  2.741657  2.741657  2.249116e-08\n",
            "11  2.1  2.822303  2.822303  2.473490e-08\n",
            "12  2.2  2.903844  2.903844  2.680282e-08\n",
            "13  2.3  2.986226  2.986226  2.868998e-08\n",
            "14  2.4  3.069398  3.069398  3.039670e-08\n",
            "15  2.5  3.153312  3.153312  3.192712e-08\n",
            "16  2.6  3.237924  3.237924  3.328806e-08\n",
            "17  2.7  3.323193  3.323193  3.448817e-08\n",
            "18  2.8  3.409082  3.409082  3.553718e-08\n",
            "19  2.9  3.495553  3.495553  3.644545e-08\n",
            "20  3.0  3.582576  3.582576  3.722352e-08\n"
          ]
        }
      ]
    },
    {
      "cell_type": "code",
      "metadata": {
        "colab": {
          "base_uri": "https://localhost:8080/",
          "height": 447
        },
        "id": "PypdLIilL50X",
        "outputId": "f2a3d316-945a-4cb0-b427-ae827c179921"
      },
      "source": [
        "df = MetodoTaylorKSympy(a, b, n, y0, k, f, tSymb, ySymb, y = y, verbose = False, complete = True)\n",
        "HelperPlot(df)"
      ],
      "execution_count": null,
      "outputs": [
        {
          "output_type": "display_data",
          "data": {
            "image/png": "[encoded data removed]",
            "text/plain": [
              "<Figure size 640x480 with 1 Axes>"
            ]
          },
          "metadata": {}
        }
      ]
    },
    {
      "cell_type": "markdown",
      "metadata": {
        "id": "bA5PHqQuV9iL"
      },
      "source": [
        "## Método del Trapecio"
      ]
    },
    {
      "cell_type": "markdown",
      "metadata": {
        "id": "krXObK2LWFSt"
      },
      "source": [
        "El **Método del Trapecio** es un **método implícito** consistente con orden de convergencia 2.\n",
        "\n",
        "$$\\hat{y}_{i + 1} = \\hat{y}_i + \\frac{h}{2}\\left(f\\left(t_i, \\hat{y}_i\\right) + f\\left(t_{i + 1}, \\hat{y}_{i + 1}\\right) \\right)$$"
      ]
    },
    {
      "cell_type": "code",
      "metadata": {
        "id": "-P6g6jCYTM84"
      },
      "source": [
        "def MetodoTrapecio(a, b, n, y0, f, y = None, verbose = False, complete = False):\n",
        "    \"\"\"\n",
        "    Calcula una solución a la ecuación en diferencias mostrada\n",
        "    anteriormente\n",
        "\n",
        "    Args:\n",
        "        a: (float) Valor inicial\n",
        "        b: (float) Valor final\n",
        "        n: (int) Número de aproximaciones\n",
        "        y0: (float) Condición inicial\n",
        "        f: (fun) Función f(t, y)\n",
        "        y: (fun) Función y(t) original. Parámetro opcional.\n",
        "        verbose: (bool) Para mostrar o no los resultados relevantes\n",
        "        complete: (bool) Para devolver o no el dataframe completo de resultados.\n",
        "            Si vale True, entonces y debe ser distinto de None\n",
        "\n",
        "    Returns:\n",
        "        yHat: (ndarray) Vector de aproximaciones si complete = False\n",
        "              (dataframe) Dataframe con los datos t, yHat, y e |y - yHat|\n",
        "                para cada iteración si complete = True\n",
        "    \"\"\"\n",
        "\n",
        "    if complete and y == None:\n",
        "        print(\"Si complete = True, entonces debes indicar una función para el parámetro y\")\n",
        "        return\n",
        "\n",
        "    h = (b - a) / n\n",
        "    if (verbose):\n",
        "        print(\"h =\", h, end = \"\\n\\n\")\n",
        "\n",
        "    t = np.zeros(n + 1) # Ponemos n + 1 porque también incluimos el índice 0\n",
        "    t[0] = a\n",
        "\n",
        "    yHat = np.zeros(n + 1)\n",
        "    yHat[0] = y0 # La primera componente del vector de aproximaciones vale la condición inicial\n",
        "    if (y != None):\n",
        "        yOriginal = np.zeros(n + 1)\n",
        "        yOriginal[0] = y(t[0])\n",
        " \n",
        "    x = sp.Symbol('x')\n",
        "\n",
        "    for i in range(1, n + 1):\n",
        "        g = yHat[i - 1] + h / 2 * (f(t[i - 1], yHat[i - 1]) + f(t[i - 1] + h, x)) - x\n",
        "\n",
        "        t[i] = a + i * h \n",
        "\n",
        "        yHat[i] = NewtonRaphson(t[i - 1], g, x)\n",
        "\n",
        "        if (y != None):\n",
        "            yOriginal[i] = y(t[i])\n",
        "\n",
        "        \n",
        "    data = pd.DataFrame({\"t\": t, \"yHat\": yHat})\n",
        "    if (y != None):\n",
        "        data[\"y\"] = yOriginal\n",
        "        data[\"|y - yHat|\"] = abs(yOriginal - yHat)\n",
        "    if verbose:\n",
        "        print(data)\n",
        "    \n",
        "    if complete:\n",
        "        return data\n",
        "    return yHat"
      ],
      "execution_count": null,
      "outputs": []
    },
    {
      "cell_type": "code",
      "metadata": {
        "id": "2cNfWtSVYCAg"
      },
      "source": [
        "a = 1\n",
        "b = 3\n",
        "n = 20 # De este modo conseguimos h = 0.1\n",
        "y0 = 2\n",
        "\n",
        "def f(t, y):\n",
        "    return (1 + t) / (1 + y)\n",
        "\n",
        "def y(t):\n",
        "    return math.sqrt(math.pow(t, 2) + 2 * t + 6) - 1"
      ],
      "execution_count": null,
      "outputs": []
    },
    {
      "cell_type": "code",
      "metadata": {
        "colab": {
          "base_uri": "https://localhost:8080/"
        },
        "id": "d0BlF8nLYHUc",
        "outputId": "931cee65-8386-420d-80dc-bc4f43ea36f7"
      },
      "source": [
        "yHat = MetodoTrapecio(a, b, n, y0, f, y = y, verbose = True)"
      ],
      "execution_count": null,
      "outputs": [
        {
          "output_type": "stream",
          "name": "stdout",
          "text": [
            "h = 0.1\n",
            "\n",
            "      t      yHat         y  |y - yHat|\n",
            "0   1.0  2.000000  2.000000    0.000000\n",
            "1   1.1  2.067562  2.067572    0.000010\n",
            "2   1.2  2.136859  2.136877    0.000019\n",
            "3   1.3  2.207776  2.207803    0.000027\n",
            "4   1.4  2.280209  2.280244    0.000035\n",
            "5   1.5  2.354061  2.354102    0.000041\n",
            "6   1.6  2.429238  2.429286    0.000048\n",
            "7   1.7  2.505657  2.505710    0.000053\n",
            "8   1.8  2.583237  2.583295    0.000058\n",
            "9   1.9  2.661904  2.661967    0.000062\n",
            "10  2.0  2.741591  2.741657    0.000066\n",
            "11  2.1  2.822233  2.822303    0.000070\n",
            "12  2.2  2.903771  2.903844    0.000073\n",
            "13  2.3  2.986151  2.986226    0.000076\n",
            "14  2.4  3.069320  3.069398    0.000078\n",
            "15  2.5  3.153232  3.153312    0.000080\n",
            "16  2.6  3.237842  3.237924    0.000082\n",
            "17  2.7  3.323110  3.323193    0.000083\n",
            "18  2.8  3.408997  3.409082    0.000085\n",
            "19  2.9  3.495468  3.495553    0.000086\n",
            "20  3.0  3.582489  3.582576    0.000087\n"
          ]
        }
      ]
    },
    {
      "cell_type": "code",
      "metadata": {
        "id": "jiKu8BDpZruI",
        "colab": {
          "base_uri": "https://localhost:8080/",
          "height": 447
        },
        "outputId": "424cac93-9d19-475b-cd74-c4ee25b51ac3"
      },
      "source": [
        "df = MetodoTrapecio(a, b, n, y0, f, y = y, verbose = False, complete = True)\n",
        "HelperPlot(df)"
      ],
      "execution_count": null,
      "outputs": [
        {
          "output_type": "display_data",
          "data": {
            "image/png": "[encoded data removed]",
            "text/plain": [
              "<Figure size 640x480 with 1 Axes>"
            ]
          },
          "metadata": {}
        }
      ]
    },
    {
      "cell_type": "markdown",
      "metadata": {
        "id": "kyRKl21jed71"
      },
      "source": [
        "## Método de Euler Modificado"
      ]
    },
    {
      "cell_type": "markdown",
      "metadata": {
        "id": "AG9ca-MTfiAD"
      },
      "source": [
        "El **Método de Euler Modificado** es un ejemplo de **Método de Runge-Kutta** introductorio\n",
        "\n",
        "$$\\hat{y}_{i + 1} = \\hat{y}_i + h\\cdot f\\left(t_i + \\frac{h}{2}, \\hat{y}_i + \\frac{h}{2}\\cdot f\\left(t_i, \\hat{y}_i\\right)\\right),\\quad \\hat{y}_0 = y_0$$"
      ]
    },
    {
      "cell_type": "code",
      "metadata": {
        "id": "z8aGO4zBYJNe"
      },
      "source": [
        "def MetodoEulerModficado(a, b, n, y0, f, y = None, verbose = False, complete = False):\n",
        "    \"\"\"\n",
        "    Calcula una solución a la ecuación en diferencias mostrada\n",
        "    anteriormente\n",
        "\n",
        "    Args:\n",
        "        a: (float) Valor inicial\n",
        "        b: (float) Valor final\n",
        "        n: (int) Número de aproximaciones\n",
        "        y0: (float) Condición inicial\n",
        "        f: (fun) Función f(t, y)\n",
        "        y: (fun) Función y(t) original. Parámetro opcional.\n",
        "        verbose: (bool) Para mostrar o no los resultados relevantes\n",
        "        complete: (bool) Para devolver o no el dataframe completo de resultados.\n",
        "            Si vale True, entonces y debe ser distinto de None\n",
        "\n",
        "    Returns:\n",
        "        yHat: (ndarray) Vector de aproximaciones si complete = False\n",
        "              (dataframe) Dataframe con los datos t, yHat, y e |y - yHat|\n",
        "                para cada iteración si complete = True\n",
        "    \"\"\"\n",
        "\n",
        "    if complete and y == None:\n",
        "        print(\"Si complete = True, entonces debes indicar una función para el parámetro y\")\n",
        "        return\n",
        "\n",
        "    h = (b - a) / n\n",
        "    if (verbose):\n",
        "        print(\"h =\", h, end = \"\\n\\n\")\n",
        "\n",
        "    t = np.zeros(n + 1) # Ponemos n + 1 porque también incluimos el índice 0\n",
        "    t[0] = a\n",
        "\n",
        "    yHat = np.zeros(n + 1)\n",
        "    yHat[0] = y0 # La primera componente del vector de aproximaciones vale la condición inicial\n",
        "    if (y != None):\n",
        "        yOriginal = np.zeros(n + 1)\n",
        "        yOriginal[0] = y(t[0])\n",
        "\n",
        "    for i in range(1, n + 1):\n",
        "        t[i] = a + i * h \n",
        "        yHat[i] = yHat[i - 1] + h * f(t[i - 1] + h/2, yHat[i - 1] + h / 2 * f(t[i - 1], yHat[i - 1]))\n",
        "        if (y != None):\n",
        "            yOriginal[i] = y(t[i])\n",
        "\n",
        "        \n",
        "    data = pd.DataFrame({\"t\": t, \"yHat\": yHat})\n",
        "    if (y != None):\n",
        "        data[\"y\"] = yOriginal\n",
        "        data[\"|y - yHat|\"] = abs(yOriginal - yHat)\n",
        "    if verbose:\n",
        "        print(data)\n",
        "    \n",
        "    if complete:\n",
        "        return data\n",
        "    return yHat"
      ],
      "execution_count": null,
      "outputs": []
    },
    {
      "cell_type": "code",
      "metadata": {
        "id": "FAMdkAJ_fKpB"
      },
      "source": [
        "a = 1\n",
        "b = 3\n",
        "n = 20 # De este modo conseguimos h = 0.1\n",
        "y0 = 2\n",
        "\n",
        "def f(t, y):\n",
        "    return (1 + t) / (1 + y)\n",
        "\n",
        "def y(t):\n",
        "    return math.sqrt(math.pow(t, 2) + 2 * t + 6) - 1"
      ],
      "execution_count": null,
      "outputs": []
    },
    {
      "cell_type": "code",
      "metadata": {
        "colab": {
          "base_uri": "https://localhost:8080/"
        },
        "id": "-5HkafVyfLTI",
        "outputId": "c355615c-6046-4c9e-b398-582a042f70ad"
      },
      "source": [
        "yHat = MetodoEulerModficado(a, b, n, y0, f, y = y, verbose = True)"
      ],
      "execution_count": null,
      "outputs": [
        {
          "output_type": "stream",
          "name": "stdout",
          "text": [
            "h = 0.1\n",
            "\n",
            "      t      yHat         y  |y - yHat|\n",
            "0   1.0  2.000000  2.000000    0.000000\n",
            "1   1.1  2.067582  2.067572    0.000010\n",
            "2   1.2  2.136897  2.136877    0.000019\n",
            "3   1.3  2.207831  2.207803    0.000028\n",
            "4   1.4  2.280279  2.280244    0.000035\n",
            "5   1.5  2.354144  2.354102    0.000042\n",
            "6   1.6  2.429334  2.429286    0.000049\n",
            "7   1.7  2.505764  2.505710    0.000054\n",
            "8   1.8  2.583354  2.583295    0.000059\n",
            "9   1.9  2.662030  2.661967    0.000064\n",
            "10  2.0  2.741725  2.741657    0.000068\n",
            "11  2.1  2.822374  2.822303    0.000071\n",
            "12  2.2  2.903919  2.903844    0.000074\n",
            "13  2.3  2.986304  2.986226    0.000077\n",
            "14  2.4  3.069478  3.069398    0.000080\n",
            "15  2.5  3.153394  3.153312    0.000082\n",
            "16  2.6  3.238008  3.237924    0.000084\n",
            "17  2.7  3.323278  3.323193    0.000085\n",
            "18  2.8  3.409168  3.409082    0.000086\n",
            "19  2.9  3.495641  3.495553    0.000088\n",
            "20  3.0  3.582664  3.582576    0.000088\n"
          ]
        }
      ]
    },
    {
      "cell_type": "code",
      "metadata": {
        "colab": {
          "base_uri": "https://localhost:8080/",
          "height": 447
        },
        "id": "4nCtmoFgh4AE",
        "outputId": "b9b09731-a7b8-40f8-9c69-2f6761154cb8"
      },
      "source": [
        "df = MetodoEulerModficado(a, b, n, y0, f, y = y, verbose = False, complete = True)\n",
        "HelperPlot(df)"
      ],
      "execution_count": null,
      "outputs": [
        {
          "output_type": "display_data",
          "data": {
            "image/png": "[encoded data removed]",
            "text/plain": [
              "<Figure size 640x480 with 1 Axes>"
            ]
          },
          "metadata": {}
        }
      ]
    },
    {
      "cell_type": "markdown",
      "metadata": {
        "id": "DOdjA9wiejeg"
      },
      "source": [
        "## Método Runge-Kutta 4"
      ]
    },
    {
      "cell_type": "markdown",
      "metadata": {
        "id": "5BEfiL8Pk7mF"
      },
      "source": [
        "Su expresión es:\n",
        "\n",
        "$$\\hat{y}_{i + 1} = \\hat{y}_i + \\frac{h}{6}(k_1 + 2k_2 + 2k_3 + k_4), \\quad \\hat{y}_0 = y_0$$\n",
        "$$\\begin{array}{rcl}\n",
        "k_1 &=& f\\left(t_i, \\hat{y}_i\\right)\\\\\n",
        "k_2 &=& f\\left(t_i + \\frac{h}{2}, \\hat{y}_i + \\frac{hk_1}{2}\\right)\\\\\n",
        "k_3 &=& f\\left(t_i + \\frac{h}{2}, \\hat{y}_i + \\frac{hk_2}{2}\\right)\\\\\n",
        "k_4 &=& f\\left(t_i + h, \\hat{y}_i + hk_3\\right)\n",
        "\\end{array}$$"
      ]
    },
    {
      "cell_type": "code",
      "metadata": {
        "id": "ahoqyKbgelf8"
      },
      "source": [
        "def MetodoRungeKutta4(a, b, n, y0, f, y = None, verbose = False, complete = False):\n",
        "    \"\"\"\n",
        "    Calcula una solución a la ecuación en diferencias mostrada\n",
        "    anteriormente\n",
        "\n",
        "    Args:\n",
        "        a: (float) Valor inicial\n",
        "        b: (float) Valor final\n",
        "        n: (int) Número de aproximaciones\n",
        "        y0: (float) Condición inicial\n",
        "        f: (fun) Función f(t, y)\n",
        "        y: (fun) Función y(t) original. Parámetro opcional.\n",
        "        verbose: (bool) Para mostrar o no los resultados relevantes\n",
        "        complete: (bool) Para devolver o no el dataframe completo de resultados.\n",
        "            Si vale True, entonces y debe ser distinto de None\n",
        "\n",
        "    Returns:\n",
        "        yHat: (ndarray) Vector de aproximaciones si complete = False\n",
        "              (dataframe) Dataframe con los datos t, yHat, y e |y - yHat|\n",
        "                para cada iteración si complete = True\n",
        "    \"\"\"\n",
        "\n",
        "    if complete and y == None:\n",
        "        print(\"Si complete = True, entonces debes indicar una función para el parámetro y\")\n",
        "        return\n",
        "\n",
        "    h = (b - a) / n\n",
        "    if (verbose):\n",
        "        print(\"h =\", h, end = \"\\n\\n\")\n",
        "\n",
        "    t = np.zeros(n + 1) # Ponemos n + 1 porque también incluimos el índice 0\n",
        "    t[0] = a\n",
        "\n",
        "    yHat = np.zeros(n + 1)\n",
        "    yHat[0] = y0 # La primera componente del vector de aproximaciones vale la condición inicial\n",
        "    if (y != None):\n",
        "        yOriginal = np.zeros(n + 1)\n",
        "        yOriginal[0] = y(t[0])\n",
        "\n",
        "    for i in range(1, n + 1):\n",
        "        k1 = f(t[i - 1], yHat[i - 1])\n",
        "        k2 = f(t[i - 1] + h / 2, yHat[i - 1] + h * k1 / 2)\n",
        "        k3 = f(t[i - 1] + h / 2, yHat[i - 1] + h * k2 / 2)\n",
        "        k4 = f(t[i - 1] + h, yHat[i - 1] + h * k3)\n",
        "\n",
        "        t[i] = a + i * h \n",
        "        yHat[i] = yHat[i - 1] + h / 6 * (k1 + 2 * k2 + 2 * k3 + k4)\n",
        "        \n",
        "        if (y != None):\n",
        "            yOriginal[i] = y(t[i])\n",
        " \n",
        "    data = pd.DataFrame({\"t\": t, \"yHat\": yHat})\n",
        "    if (y != None):\n",
        "        data[\"y\"] = yOriginal\n",
        "        data[\"|y - yHat|\"] = abs(yOriginal - yHat)\n",
        "    if verbose:\n",
        "        print(data)\n",
        "    \n",
        "    if complete:\n",
        "        return data\n",
        "    return yHat"
      ],
      "execution_count": null,
      "outputs": []
    },
    {
      "cell_type": "code",
      "metadata": {
        "id": "ghEe2OHTh-kg"
      },
      "source": [
        "a = 1\n",
        "b = 3\n",
        "n = 20 # De este modo conseguimos h = 0.1\n",
        "y0 = 2\n",
        "\n",
        "def f(t, y):\n",
        "    return (1 + t) / (1 + y)\n",
        "\n",
        "def y(t):\n",
        "    return math.sqrt(math.pow(t, 2) + 2 * t + 6) - 1"
      ],
      "execution_count": null,
      "outputs": []
    },
    {
      "cell_type": "code",
      "metadata": {
        "colab": {
          "base_uri": "https://localhost:8080/"
        },
        "id": "QnituIf4iAho",
        "outputId": "fe968528-c75e-407d-c304-8f5343795fdb"
      },
      "source": [
        "yHat = MetodoRungeKutta4(a, b, n, y0, f, y = y, verbose = True)"
      ],
      "execution_count": null,
      "outputs": [
        {
          "output_type": "stream",
          "name": "stdout",
          "text": [
            "h = 0.1\n",
            "\n",
            "      t      yHat         y    |y - yHat|\n",
            "0   1.0  2.000000  2.000000  0.000000e+00\n",
            "1   1.1  2.067572  2.067572  5.018386e-10\n",
            "2   1.2  2.136877  2.136877  9.213443e-10\n",
            "3   1.3  2.207803  2.207803  1.269480e-09\n",
            "4   1.4  2.280244  2.280244  1.556196e-09\n",
            "5   1.5  2.354102  2.354102  1.790379e-09\n",
            "6   1.6  2.429286  2.429286  1.979870e-09\n",
            "7   1.7  2.505710  2.505710  2.131511e-09\n",
            "8   1.8  2.583295  2.583295  2.251223e-09\n",
            "9   1.9  2.661967  2.661967  2.344099e-09\n",
            "10  2.0  2.741657  2.741657  2.414492e-09\n",
            "11  2.1  2.822303  2.822303  2.466107e-09\n",
            "12  2.2  2.903844  2.903844  2.502084e-09\n",
            "13  2.3  2.986226  2.986226  2.525081e-09\n",
            "14  2.4  3.069398  3.069398  2.537335e-09\n",
            "15  2.5  3.153312  3.153312  2.540730e-09\n",
            "16  2.6  3.237924  3.237924  2.536849e-09\n",
            "17  2.7  3.323193  3.323193  2.527017e-09\n",
            "18  2.8  3.409082  3.409082  2.512347e-09\n",
            "19  2.9  3.495553  3.495553  2.493769e-09\n",
            "20  3.0  3.582576  3.582576  2.472061e-09\n"
          ]
        }
      ]
    },
    {
      "cell_type": "code",
      "metadata": {
        "colab": {
          "base_uri": "https://localhost:8080/",
          "height": 447
        },
        "id": "svuoh5HqiNZO",
        "outputId": "9ff75abd-ca2e-478c-e189-ce4be7fc2c01"
      },
      "source": [
        "df = MetodoRungeKutta4(a, b, n, y0, f, y = y, verbose = False, complete = True)\n",
        "HelperPlot(df)"
      ],
      "execution_count": null,
      "outputs": [
        {
          "output_type": "display_data",
          "data": {
            "image/png": "[encoded data removed]",
            "text/plain": [
              "<Figure size 640x480 with 1 Axes>"
            ]
          },
          "metadata": {}
        }
      ]
    },
    {
      "cell_type": "markdown",
      "metadata": {
        "id": "Tpgk6N00emEV"
      },
      "source": [
        "## Método Runge-Kutta-Fehlberg"
      ]
    },
    {
      "cell_type": "markdown",
      "metadata": {
        "id": "jXRFnBmNmCrP"
      },
      "source": [
        "El **Método Runge-Kutta-Fehlberg** es un método de **Runge-Kutta** con orden de consistencia $5$, $\\mathcal{O}(h^4)$"
      ]
    },
    {
      "cell_type": "code",
      "metadata": {
        "id": "f1U4fxJCenwS"
      },
      "source": [
        "def MetodoRungeKuttaFehlberg(a, b, hMin, hMax, TOL, y0, f, y = None, verbose = False, complete = False):\n",
        "    \"\"\"\n",
        "    Calcula solución a ecuación en diferencias con el método de Runge-Kutta-Fehlberg\n",
        "\n",
        "    Args:\n",
        "        a: (float) Valor inicial\n",
        "        b: (float) Valor final\n",
        "        hMin: (float) Paso mínimo\n",
        "        hMax: (float) Paso Máximo\n",
        "        TOL: (float) Tolerancia\n",
        "        y0: (float) Condición inicial\n",
        "        f: (fun) Función f(t, y)\n",
        "        y: (fun) Función y(t) original. Parámetro opcional.\n",
        "        verbose: (bool) Para mostrar o no los resultados relevantes\n",
        "        complete: (bool) Para devolver o no el dataframe completo de resultados.\n",
        "            Si vale True, entonces y debe ser distinto de None\n",
        "\n",
        "    Returns:\n",
        "        yHat: (ndarray) Vector de aproximaciones si complete = False\n",
        "              (dataframe) Dataframe con los datos t, yHat, y e |y - yHat|\n",
        "                para cada iteración si complete = True\n",
        "    \"\"\"\n",
        "\n",
        "    if complete and y == None:\n",
        "        print(\"Si complete = True, entonces debes indicar una función para el parámetro y\")\n",
        "        return\n",
        "\n",
        "    sep = 30\n",
        "    i = 0\n",
        "\n",
        "    t = a\n",
        "    yHat = y0\n",
        "    h = hMax\n",
        "\n",
        "    T = np.array([t])\n",
        "    YHAT = np.array([yHat])\n",
        "    H = np.array([])\n",
        "\n",
        "    if (y != None):\n",
        "        Y = np.array([y(t)])\n",
        "\n",
        "    while t <= b:\n",
        "        if verbose:\n",
        "            print(\"t =\", t, end = \"\\n\\n\")\n",
        "            \n",
        "        k1 = f(t, yHat)\n",
        "        k2 = f(t + h / 4, yHat + h / 4 * k1)\n",
        "        k3 = f(t + 3 * h / 8, yHat + h * (3 / 32 * k1 + 9 / 32 * k2))\n",
        "        k4 = f(t + 12 * h / 13, yHat + h * (1932 / 2197 * k1 - 7200 / 2197 * k2 + 7296 / 2197 * k3))\n",
        "        k5 = f(t + h, yHat + h * (439 / 216 * k1 - 8 * k2 + 3680 / 513 * k3 - 845 / 4104 * k4))\n",
        "        k6 = f(t + h / 2, yHat + h * (-8 / 27 * k1 + 2 * k2 - 3544 / 2565 * k3 + 1859 / 4104 * k4 - 11 / 40 * k5))\n",
        "        R = abs(1 / 360 * k1 - 128 / 4275 * k3 - 2197 / 75240 * k4 + 1 / 50 * k5 + 2 / 55 * k6)\n",
        "        \n",
        "        if verbose:\n",
        "            print(\"k1 = {},\\nk2 = {},\\nk3 = {},\\nk4 = {},\\nk5 = {},\\nk6 = {}\".format(k1, k2, k3, k4, k5, k6),\n",
        "              end = \"\\n\\n\")\n",
        "            print(\"R =\", R, end = \"\\n\\n\")\n",
        "\n",
        "        if R <= TOL:\n",
        "            t += h\n",
        "            yHat += h * (25 / 216 * k1 + 1408 / 2565 * k3 + 2197 / 4104 * k4 - 1 / 5 * k5)\n",
        "\n",
        "            if (h != 0):\n",
        "                T = np.append(T, t)\n",
        "                YHAT = np.append(YHAT, yHat)\n",
        "                H = np.append(H, h)\n",
        "                \n",
        "                if (y != None):\n",
        "                    Y = np.append(Y, y(t))\n",
        "\n",
        "            if verbose:\n",
        "                print(\"yHat = {}\".format(yHat), end = \"\\n\\n\")\n",
        "\n",
        "        q = 0.84 * math.pow(TOL / R, 1 / 4)\n",
        "        if verbose:\n",
        "            print(\"q =\", q, end = \"\\n\\n\")\n",
        "        \n",
        "        if q <= 0.1:\n",
        "            h = 0.1 * h\n",
        "        else:\n",
        "            h = min(4 * h, hMax) if (q >= 4) else min(q * h, hMax)\n",
        "\n",
        "        if verbose:\n",
        "            print(\"h =\", h, end = \"\\n\\n\")\n",
        "        \n",
        "        if t + h > b:\n",
        "            h = b - t\n",
        "        else:\n",
        "            if t == b:\n",
        "                H = np.append(H, None)\n",
        "                data = pd.DataFrame({\"t\": T, \"yHat\": YHAT, \"h\": H})\n",
        "                if (y != None):\n",
        "                    data[\"y\"] = Y\n",
        "                    data[\"|y - yHat|\"] = abs(Y - YHAT)\n",
        "                if verbose:\n",
        "                    print(\"=\" * sep, end = \"\\n\\n\")\n",
        "                    print(data)\n",
        "                \n",
        "                if complete:\n",
        "                    return data\n",
        "                return yHat\n",
        "\n",
        "            if h < hMin:\n",
        "                print(\"El paso h = {} es demasiado pequeño. El algoritmo no funciona\".format(h))\n",
        "                return   \n",
        "        \n",
        "        if verbose:\n",
        "            print(\"=\" * sep, end = \"\\n\\n\")"
      ],
      "execution_count": null,
      "outputs": []
    },
    {
      "cell_type": "code",
      "metadata": {
        "id": "aWGsXjahqnWP"
      },
      "source": [
        "a = 0\n",
        "b = 1\n",
        "hMin = 0.01\n",
        "hMax = 0.25\n",
        "TOL = 0.00001\n",
        "y0 = 0\n",
        "\n",
        "def f(t, y):\n",
        "    return t * math.exp(3 * t) - 2 * y\n",
        "\n",
        "def y(t):\n",
        "    return 1 / 5 * t * math.exp(3 * t) - 1 / 25 * math.exp(3 * t) + 1 / 25 * math.exp(-2 * t)"
      ],
      "execution_count": null,
      "outputs": []
    },
    {
      "cell_type": "code",
      "metadata": {
        "id": "YpNHJ7V1qnzv",
        "colab": {
          "base_uri": "https://localhost:8080/"
        },
        "outputId": "fa9b37d5-ca3e-4796-b0e2-f55c6e3f8532"
      },
      "source": [
        "yHat = MetodoRungeKuttaFehlberg(a, b, hMin, hMax, TOL, y0, f, y = y, verbose = True)"
      ],
      "execution_count": null,
      "outputs": [
        {
          "output_type": "stream",
          "name": "stdout",
          "text": [
            "t = 0\n",
            "\n",
            "k1 = 0.0,\n",
            "k2 = 0.07538939058881129,\n",
            "k3 = 0.11359693807927954,\n",
            "k4 = 0.3960624907247191,\n",
            "k5 = 0.46413833497922263,\n",
            "k6 = 0.1590779124915151\n",
            "\n",
            "R = 0.00010117039907377168\n",
            "\n",
            "q = 0.4709945917125248\n",
            "\n",
            "h = 0.1177486479281312\n",
            "\n",
            "==============================\n",
            "\n",
            "t = 0\n",
            "\n",
            "k1 = 0.0,\n",
            "k2 = 0.03215504551563863,\n",
            "k3 = 0.0482802882862029,\n",
            "k4 = 0.13765147460961055,\n",
            "k5 = 0.15332871899573658,\n",
            "k6 = 0.0660583967437157\n",
            "\n",
            "R = 3.7042353418165544e-06\n",
            "\n",
            "yHat = 0.008186569732741499\n",
            "\n",
            "q = 1.0767246193186877\n",
            "\n",
            "h = 0.12678286811570724\n",
            "\n",
            "==============================\n",
            "\n",
            "t = 0.1177486479281312\n",
            "\n",
            "k1 = 0.151263402323702,\n",
            "k2 = 0.2080231190021048,\n",
            "k3 = 0.23659523984698555,\n",
            "k4 = 0.39837532636865747,\n",
            "k5 = 0.4273469089483787,\n",
            "k6 = 0.26833144184311686\n",
            "\n",
            "R = 8.082884033920254e-06\n",
            "\n",
            "yHat = 0.04307398125942798\n",
            "\n",
            "q = 0.8859061142667\n",
            "\n",
            "h = 0.11231771804797369\n",
            "\n",
            "==============================\n",
            "\n",
            "t = 0.24453151604383844\n",
            "\n",
            "k1 = 0.42310188145075583,\n",
            "k2 = 0.5077142844717683,\n",
            "k3 = 0.550234001961674,\n",
            "k4 = 0.7832997009105178,\n",
            "k5 = 0.8235813451453349,\n",
            "k6 = 0.5969751285650386\n",
            "\n",
            "R = 7.985787243303816e-06\n",
            "\n",
            "yHat = 0.11109556256496844\n",
            "\n",
            "q = 0.8885867891174455\n",
            "\n",
            "h = 0.0998040404412475\n",
            "\n",
            "==============================\n",
            "\n",
            "t = 0.35684923409181213\n",
            "\n",
            "k1 = 0.8187297751713969,\n",
            "k2 = 0.9372183717748696,\n",
            "k3 = 0.9966262080377554,\n",
            "k4 = 1.3131210529246684,\n",
            "k5 = 1.3662039514983622,\n",
            "k6 = 1.0612997168399723\n",
            "\n",
            "R = 7.546248760877117e-06\n",
            "\n",
            "yHat = 0.2180406237956855\n",
            "\n",
            "q = 0.9012525503207881\n",
            "\n",
            "h = 0.08994864597999337\n",
            "\n",
            "==============================\n",
            "\n",
            "t = 0.4566532745330596\n",
            "\n",
            "k1 = 1.3609373347419846,\n",
            "k2 = 1.5198093650627256,\n",
            "k3 = 1.5993234941585994,\n",
            "k4 = 2.0136426654560586,\n",
            "k5 = 2.0815543836587103,\n",
            "k6 = 1.6852013436055235\n",
            "\n",
            "R = 7.1891540133067755e-06\n",
            "\n",
            "yHat = 0.37069106597865165\n",
            "\n",
            "q = 0.9122415288488059\n",
            "\n",
            "h = 0.08205489032666916\n",
            "\n",
            "==============================\n",
            "\n",
            "t = 0.546601920513053\n",
            "\n",
            "k1 = 2.075896147054441,\n",
            "k2 = 2.281994520292769,\n",
            "k3 = 2.385014153097215,\n",
            "k4 = 2.9125281688203275,\n",
            "k5 = 2.997465243686895,\n",
            "k6 = 2.4955616664400924\n",
            "\n",
            "R = 6.9170895646286645e-06\n",
            "\n",
            "yHat = 0.5765783716394428\n",
            "\n",
            "q = 0.921082299012165\n",
            "\n",
            "h = 0.07557930702727948\n",
            "\n",
            "==============================\n",
            "\n",
            "t = 0.6286568108397221\n",
            "\n",
            "k1 = 2.991419916342843,\n",
            "k2 = 3.251928453060141,\n",
            "k3 = 3.382028785589209,\n",
            "k4 = 4.038923399056159,\n",
            "k5 = 4.143202788142324,\n",
            "k6 = 3.5208901361220653\n",
            "\n",
            "R = 6.7062020260577615e-06\n",
            "\n",
            "yHat = 0.8438450104434478\n",
            "\n",
            "q = 0.9282396766086141\n",
            "\n",
            "h = 0.07015571151330506\n",
            "\n",
            "==============================\n",
            "\n",
            "t = 0.7042361178670016\n",
            "\n",
            "k1 = 4.13677276291613,\n",
            "k2 = 4.459228497957413,\n",
            "k3 = 4.620163938344361,\n",
            "k4 = 5.423423598130688,\n",
            "k5 = 5.549475632093699,\n",
            "k6 = 4.791163189842969\n",
            "\n",
            "R = 6.538551822671268e-06\n",
            "\n",
            "yHat = 1.1811791836838794\n",
            "\n",
            "q = 0.934133384798503\n",
            "\n",
            "h = 0.06553479225887096\n",
            "\n",
            "==============================\n",
            "\n",
            "t = 0.7743918293803066\n",
            "\n",
            "k1 = 5.5426631619331985,\n",
            "k2 = 5.934963040679442,\n",
            "k3 = 6.130669290690004,\n",
            "k4 = 7.098076800194491,\n",
            "k5 = 7.248444001053968,\n",
            "k6 = 6.3378117951118496\n",
            "\n",
            "R = 6.402139318573141e-06\n",
            "\n",
            "yHat = 1.597780036391463\n",
            "\n",
            "q = 0.9390700849914119\n",
            "\n",
            "h = 0.06154176293643247\n",
            "\n",
            "==============================\n",
            "\n",
            "t = 0.8399266216391775\n",
            "\n",
            "k1 = 7.241251373323675,\n",
            "k2 = 7.711655081245507,\n",
            "k3 = 7.946249949726912,\n",
            "k4 = 9.096386502492905,\n",
            "k5 = 9.273723278022683,\n",
            "k6 = 8.19372291108126\n",
            "\n",
            "R = 6.28891267684395e-06\n",
            "\n",
            "yHat = 2.1033371519500665\n",
            "\n",
            "q = 0.9432686375220165\n",
            "\n",
            "h = 0.05805041487575159\n",
            "\n",
            "==============================\n",
            "\n",
            "t = 0.90146838457561\n",
            "\n",
            "k1 = 9.266152760472826,\n",
            "k2 = 9.823283470428134,\n",
            "k3 = 10.10106694052535,\n",
            "k4 = 11.453310988049143,\n",
            "k5 = 11.660383394503581,\n",
            "k6 = 10.39323939041171\n",
            "\n",
            "R = 6.193338580151586e-06\n",
            "\n",
            "yHat = 2.708017483938111\n",
            "\n",
            "q = 0.9468868392458929\n",
            "\n",
            "h = 0.05496717385861319\n",
            "\n",
            "==============================\n",
            "\n",
            "t = 0.9595187994513615\n",
            "\n",
            "k1 = 11.65243717825306,\n",
            "k2 = 12.128321263961853,\n",
            "k3 = 12.36573651027911,\n",
            "k4 = 13.484420601310802,\n",
            "k5 = 13.65058930460107,\n",
            "k6 = 12.611903748857657\n",
            "\n",
            "R = 1.7482888957642828e-06\n",
            "\n",
            "yHat = 3.219095671331241\n",
            "\n",
            "q = 1.2990503560314084\n",
            "\n",
            "h = 0.05258711798528764\n",
            "\n",
            "==============================\n",
            "\n",
            "t = 1.0\n",
            "\n",
            "k1 = 13.647345580525187,\n",
            "k2 = 13.647345580525187,\n",
            "k3 = 13.647345580525187,\n",
            "k4 = 13.647345580525187,\n",
            "k5 = 13.647345580525187,\n",
            "k6 = 13.647345580525187\n",
            "\n",
            "R = 5.551115123125783e-17\n",
            "\n",
            "yHat = 3.219095671331241\n",
            "\n",
            "q = 547.2480560450131\n",
            "\n",
            "h = 0.0\n",
            "\n",
            "==============================\n",
            "\n",
            "           t      yHat          h         y    |y - yHat|\n",
            "0   0.000000  0.000000   0.117749  0.000000  0.000000e+00\n",
            "1   0.117749  0.008187   0.126783  0.008187  6.007782e-07\n",
            "2   0.244532  0.043074   0.112318  0.043076  1.894245e-06\n",
            "3   0.356849  0.111096   0.099804  0.111098  2.718619e-06\n",
            "4   0.456653  0.218041  0.0899486  0.218044  3.207293e-06\n",
            "5   0.546602  0.370691  0.0820549  0.370695  3.500062e-06\n",
            "6   0.628657  0.576578  0.0755793  0.576582  3.676129e-06\n",
            "7   0.704236  0.843845  0.0701557  0.843849  3.780097e-06\n",
            "8   0.774392  1.181179  0.0655348  1.181183  3.838137e-06\n",
            "9   0.839927  1.597780  0.0615418  1.597784  3.866235e-06\n",
            "10  0.901468  2.103337  0.0580504  2.103341  3.874504e-06\n",
            "11  0.959519  2.708017  0.0404812  2.708021  3.869520e-06\n",
            "12  1.000000  3.219096       None  3.219099  3.647708e-06\n"
          ]
        }
      ]
    },
    {
      "cell_type": "code",
      "metadata": {
        "id": "vb2bHcr3rTQB",
        "colab": {
          "base_uri": "https://localhost:8080/",
          "height": 447
        },
        "outputId": "ad025780-9fbb-46b1-99e3-573305c55993"
      },
      "source": [
        "df = MetodoRungeKuttaFehlberg(a, b, hMin, hMax, TOL, y0, f, y = y, verbose = False, complete = True)\n",
        "HelperPlot(df)"
      ],
      "execution_count": null,
      "outputs": [
        {
          "output_type": "display_data",
          "data": {
            "image/png": "[encoded data removed]",
            "text/plain": [
              "<Figure size 640x480 with 1 Axes>"
            ]
          },
          "metadata": {}
        }
      ]
    },
    {
      "cell_type": "markdown",
      "metadata": {
        "id": "n6RSkA1vGO4o"
      },
      "source": [
        "## Método Adams-Bashforth de Orden 4"
      ]
    },
    {
      "cell_type": "markdown",
      "metadata": {
        "id": "RdHd_BGBK7JX"
      },
      "source": [
        "El **Método Adams-Bashforth** es un método multipaso. En este caso hemos implementado el método multipaso Adams-Bashforth de orden 4."
      ]
    },
    {
      "cell_type": "code",
      "metadata": {
        "id": "ZGFVjEZZGSpt"
      },
      "source": [
        "def MetodoAdamsBashforth4(a, b, n, y0, f, y = None, verbose = False, complete = False):\n",
        "    \"\"\"\n",
        "    Ofrece una solución aproximada calculada mediante el método \n",
        "    multipaso Adams-Bashforth de orden 4  \n",
        "\n",
        "    Args:\n",
        "        a: (float) Valor inicial\n",
        "        b: (float) Valor final\n",
        "        n: (int) Número de aproximaciones\n",
        "        y0: (float) Condición inicial\n",
        "        f: (fun) Función f(t, y)\n",
        "        y: (fun) Función y(t) original. Parámetro opcional.\n",
        "        verbose: (bool) Para mostrar o no los resultados relevantes\n",
        "        complete: (bool) Para devolver o no el dataframe completo de resultados.\n",
        "            Si vale True, entonces y debe ser distinto de None\n",
        "\n",
        "    Returns:\n",
        "        yHat: (ndarray) Vector de aproximaciones si complete = False\n",
        "              (dataframe) Dataframe con los datos t, yHat, y e |y - yHat|\n",
        "                para cada iteración si complete = True\n",
        "    \"\"\"\n",
        "\n",
        "    if complete and y == None:\n",
        "        print(\"Si complete = True, entonces debes indicar una función para el parámetro y\")\n",
        "        return\n",
        "\n",
        "    h = (b - a) / n\n",
        "    if (verbose):\n",
        "        print(\"h =\", h, end = \"\\n\\n\")\n",
        "\n",
        "    t = np.zeros(n + 1) # Ponemos n + 1 porque también incluimos el índice 0\n",
        "    t[0] = a\n",
        "\n",
        "    yHat = np.zeros(n + 1)\n",
        "    yHat[0] = y0 # La primera componente del vector de aproximaciones vale la condición inicial\n",
        "\n",
        "    if (y != None):\n",
        "        yOriginal = np.zeros(n + 1)\n",
        "        yOriginal[0] = y(t[0])\n",
        "\n",
        "    for i in range(1, 4):\n",
        "        # Calculamos los valores iniciales restantes usando el método Runge-Kutta 4\n",
        "        t[i] = a + i * h \n",
        "        yHat[i] = MetodoRungeKutta4(a, t[i], i, y0, f)[-1] # Queremos solamente la última aproximación\n",
        "        if (y != None):\n",
        "            yOriginal[i] = y(t[i])\n",
        "\n",
        "    for i in range(4, n + 1):\n",
        "        yHat[i] = yHat[i - 1] + h / 24 * (55 * f(t[i - 1], yHat[i - 1]) - \n",
        "                                          59 * f(t[i - 1] - h, yHat[i - 2]) +\n",
        "                                          37 * f(t[i - 1] - 2 * h, yHat[i - 3]) - \n",
        "                                          9 * f(t[i - 1] - 3 * h, yHat[i - 4]))\n",
        "        t[i] = a + i * h\n",
        "        if (y != None):\n",
        "            yOriginal[i] = y(t[i]) \n",
        "\n",
        "    data = pd.DataFrame({\"t\": t, \"yHat\": yHat})\n",
        "    if (y != None):\n",
        "        data[\"y\"] = yOriginal\n",
        "        data[\"|y - yHat|\"] = abs(yOriginal - yHat)\n",
        "    if verbose:\n",
        "        print(data)\n",
        "    \n",
        "    if complete:\n",
        "        return data\n",
        "    return yHat"
      ],
      "execution_count": null,
      "outputs": []
    },
    {
      "cell_type": "code",
      "metadata": {
        "id": "b2rvy8sWJXBm"
      },
      "source": [
        "a = 0\n",
        "b = 1\n",
        "n = 10 # De este modo conseguimos h = 0.1\n",
        "y0 = 0\n",
        "\n",
        "def f(t, y):\n",
        "    return t * math.exp(3 * t) - 2 * y\n",
        "\n",
        "def y(t):\n",
        "    return 1 / 5 * t * math.exp(3 * t) - 1 / 25 * math.exp(3 * t) + 1 / 25 * math.exp(-2 * t)"
      ],
      "execution_count": null,
      "outputs": []
    },
    {
      "cell_type": "code",
      "metadata": {
        "colab": {
          "base_uri": "https://localhost:8080/"
        },
        "id": "OJxpbnxsJ34k",
        "outputId": "f191c212-b219-43f7-c525-b50f1d81f068"
      },
      "source": [
        "yHat = MetodoAdamsBashforth4(a, b, n, y0, f, y = y, verbose = True)"
      ],
      "execution_count": null,
      "outputs": [
        {
          "output_type": "stream",
          "name": "stdout",
          "text": [
            "h = 0.1\n",
            "\n",
            "      t      yHat         y  |y - yHat|\n",
            "0   0.0  0.000000  0.000000    0.000000\n",
            "1   0.1  0.005755  0.005752    0.000003\n",
            "2   0.2  0.026819  0.026813    0.000006\n",
            "3   0.3  0.071155  0.071145    0.000011\n",
            "4   0.4  0.150274  0.150778    0.000503\n",
            "5   0.5  0.282614  0.283617    0.001002\n",
            "6   0.6  0.494179  0.496020    0.001841\n",
            "7   0.7  0.823656  0.826481    0.002824\n",
            "8   0.8  1.326578  1.330857    0.004279\n",
            "9   0.9  2.083567  2.089774    0.006208\n",
            "10  1.0  3.210138  3.219099    0.008962\n"
          ]
        }
      ]
    },
    {
      "cell_type": "code",
      "metadata": {
        "colab": {
          "base_uri": "https://localhost:8080/",
          "height": 447
        },
        "id": "Mo1oLGeaKr_O",
        "outputId": "fc894a90-559f-4f35-bdf5-3c0cfb6759c2"
      },
      "source": [
        "df = MetodoAdamsBashforth4(a, b, n, y0, f, y = y, verbose = False, complete = True)\n",
        "HelperPlot(df)"
      ],
      "execution_count": null,
      "outputs": [
        {
          "output_type": "display_data",
          "data": {
            "image/png": "[encoded data removed]",
            "text/plain": [
              "<Figure size 640x480 with 1 Axes>"
            ]
          },
          "metadata": {}
        }
      ]
    },
    {
      "cell_type": "markdown",
      "metadata": {
        "id": "iqmJFkJXGXMy"
      },
      "source": [
        "## Método Adams-Moulton de Orden 3"
      ]
    },
    {
      "cell_type": "markdown",
      "metadata": {
        "id": "GmSRM5STPfrj"
      },
      "source": [
        "El **Método Adams-Moulton** es un método multipaso. En este caso hemos implementado el método multipaso Adams-Moulton de orden 3."
      ]
    },
    {
      "cell_type": "code",
      "metadata": {
        "id": "-1n3hnH5LTn1"
      },
      "source": [
        "def MetodoAdamsMoulton3(a, b, n, y0, f, y = None, verbose = False, complete = False):\n",
        "    \"\"\"\n",
        "    Ofrece una solución aproximada calculada mediante el método \n",
        "    multipaso Adams-Moulton de orden 3  \n",
        "\n",
        "    Args:\n",
        "        a: (float) Valor inicial\n",
        "        b: (float) Valor final\n",
        "        n: (int) Número de aproximaciones\n",
        "        y0: (float) Condición inicial\n",
        "        f: (fun) Función f(t, y)\n",
        "        y: (fun) Función y(t) original. Parámetro opcional.\n",
        "        verbose: (bool) Para mostrar o no los resultados relevantes\n",
        "        complete: (bool) Para devolver o no el dataframe completo de resultados.\n",
        "            Si vale True, entonces y debe ser distinto de None\n",
        "\n",
        "    Returns:\n",
        "        yHat: (ndarray) Vector de aproximaciones si complete = False\n",
        "              (dataframe) Dataframe con los datos t, yHat, y e |y - yHat|\n",
        "                para cada iteración si complete = True\n",
        "    \"\"\"\n",
        "\n",
        "    if complete and y == None:\n",
        "        print(\"Si complete = True, entonces debes indicar una función para el parámetro y\")\n",
        "        return\n",
        "\n",
        "    h = (b - a) / n\n",
        "    if (verbose):\n",
        "        print(\"h =\", h, end = \"\\n\\n\")\n",
        "\n",
        "    t = np.zeros(n + 1) # Ponemos n + 1 porque también incluimos el índice 0\n",
        "    t[0] = a\n",
        "\n",
        "    yHat = np.zeros(n + 1)\n",
        "    yHat[0] = y0 # La primera componente del vector de aproximaciones vale la condición inicial\n",
        "\n",
        "    if (y != None):\n",
        "        yOriginal = np.zeros(n + 1)\n",
        "        yOriginal[0] = y(t[0])\n",
        "\n",
        "    for i in range(1, 3):\n",
        "        # Calculamos los valores iniciales restantes usando el método Runge-Kutta 4\n",
        "        t[i] = a + i * h \n",
        "        yHat[i] = MetodoRungeKutta4(a, t[i], i, y0, f)[-1] # Queremos solamente la última aproximación\n",
        "        if (y != None):\n",
        "            yOriginal[i] = y(t[i])\n",
        "\n",
        "    x = sp.Symbol('x')\n",
        "    for i in range(3, n + 1):\n",
        "        g = yHat[i - 1] + h / 24 * (9 * f(t[i - 1] + h, x) + \n",
        "                                          19 * f(t[i - 1], yHat[i - 1]) -\n",
        "                                          5 * f(t[i - 1] - h, yHat[i - 2]) + \n",
        "                                          f(t[i - 1] - 2 * h, yHat[i - 3])) - x\n",
        "        yHat[i] = NewtonRaphson(t[i - 1], g, x)\n",
        "        t[i] = a + i * h\n",
        "        \n",
        "        if (y != None):\n",
        "            yOriginal[i] = y(t[i]) \n",
        "\n",
        "    data = pd.DataFrame({\"t\": t, \"yHat\": yHat})\n",
        "    if (y != None):\n",
        "        data[\"y\"] = yOriginal\n",
        "        data[\"|y - yHat|\"] = abs(yOriginal - yHat)\n",
        "    if verbose:\n",
        "        print(data)\n",
        "    \n",
        "    if complete:\n",
        "        return data\n",
        "    return yHat"
      ],
      "execution_count": null,
      "outputs": []
    },
    {
      "cell_type": "code",
      "metadata": {
        "id": "hTYtxnxxO39i"
      },
      "source": [
        "a = 0\n",
        "b = 1\n",
        "n = 10 # De este modo conseguimos h = 0.1\n",
        "y0 = 0\n",
        "\n",
        "def f(t, y):\n",
        "    return t * math.exp(3 * t) - 2 * y\n",
        "\n",
        "def y(t):\n",
        "    return 1 / 5 * t * math.exp(3 * t) - 1 / 25 * math.exp(3 * t) + 1 / 25 * math.exp(-2 * t)"
      ],
      "execution_count": null,
      "outputs": []
    },
    {
      "cell_type": "code",
      "metadata": {
        "colab": {
          "base_uri": "https://localhost:8080/"
        },
        "id": "96SLk-hWO7y0",
        "outputId": "8cfeac6f-e64a-4a08-da97-8e009652d191"
      },
      "source": [
        "yHat = MetodoAdamsMoulton3(a, b, n, y0, f, y = y, verbose = True)"
      ],
      "execution_count": null,
      "outputs": [
        {
          "output_type": "stream",
          "name": "stdout",
          "text": [
            "h = 0.1\n",
            "\n",
            "      t      yHat         y  |y - yHat|\n",
            "0   0.0  0.000000  0.000000    0.000000\n",
            "1   0.1  0.005755  0.005752    0.000003\n",
            "2   0.2  0.026819  0.026813    0.000006\n",
            "3   0.3  0.071182  0.071145    0.000038\n",
            "4   0.4  0.150855  0.150778    0.000077\n",
            "5   0.5  0.283745  0.283617    0.000129\n",
            "6   0.6  0.496219  0.496020    0.000200\n",
            "7   0.7  0.826778  0.826481    0.000297\n",
            "8   0.8  1.331289  1.330857    0.000432\n",
            "9   0.9  2.090396  2.089774    0.000621\n",
            "10  1.0  3.219985  3.219099    0.000886\n"
          ]
        }
      ]
    },
    {
      "cell_type": "code",
      "metadata": {
        "colab": {
          "base_uri": "https://localhost:8080/",
          "height": 447
        },
        "id": "-bLa2KFDO_Uc",
        "outputId": "cead81e0-1792-4f17-ccb4-31e8acdeff9c"
      },
      "source": [
        "df = MetodoAdamsMoulton3(a, b, n, y0, f, y = y, verbose = False, complete = True)\n",
        "HelperPlot(df)"
      ],
      "execution_count": null,
      "outputs": [
        {
          "output_type": "display_data",
          "data": {
            "image/png": "[encoded data removed]",
            "text/plain": [
              "<Figure size 640x480 with 1 Axes>"
            ]
          },
          "metadata": {}
        }
      ]
    },
    {
      "cell_type": "markdown",
      "metadata": {
        "id": "wQJE5BtmPWWP"
      },
      "source": [
        "## Método Predictor-Corrector de Orden 4"
      ]
    },
    {
      "cell_type": "markdown",
      "metadata": {
        "id": "ectkXnkrPy_P"
      },
      "source": [
        "Este método combina el método explícito de Adams-Bashforth de orden 4 como predictor y el método implícito Adams-Moulton de orden 3 como corrector."
      ]
    },
    {
      "cell_type": "code",
      "metadata": {
        "id": "WbI-AwdEPKbe"
      },
      "source": [
        "def MetodoPredictorCorrector4(a, b, n, y0, f, y = None, verbose = False, complete = False):\n",
        "    \"\"\"\n",
        "    Ofrece una solución aproximada calculada mediante el método \n",
        "    predictor-corrector de orden 4. Como predictor usa el método\n",
        "    Adams-Bashforth de orden 4 y como corrector, el método Adams-\n",
        "    Moulton de orden 3. \n",
        "\n",
        "    Args:\n",
        "        a: (float) Valor inicial\n",
        "        b: (float) Valor final\n",
        "        n: (int) Número de aproximaciones\n",
        "        y0: (float) Condición inicial\n",
        "        f: (fun) Función f(t, y)\n",
        "        y: (fun) Función y(t) original. Parámetro opcional.\n",
        "        verbose: (bool) Para mostrar o no los resultados relevantes\n",
        "        complete: (bool) Para devolver o no el dataframe completo de resultados.\n",
        "            Si vale True, entonces y debe ser distinto de None\n",
        "\n",
        "    Returns:\n",
        "        yHat: (ndarray) Vector de aproximaciones si complete = False\n",
        "              (dataframe) Dataframe con los datos t, yHat, y e |y - yHat|\n",
        "                para cada iteración si complete = True\n",
        "    \"\"\"\n",
        "\n",
        "    if complete and y == None:\n",
        "        print(\"Si complete = True, entonces debes indicar una función para el parámetro y\")\n",
        "        return\n",
        "\n",
        "    h = (b - a) / n\n",
        "    if (verbose):\n",
        "        print(\"h =\", h, end = \"\\n\\n\")\n",
        "\n",
        "    t = np.zeros(n + 1) # Ponemos n + 1 porque también incluimos el índice 0\n",
        "    t[0] = a\n",
        "\n",
        "    yHat = np.zeros(n + 1)\n",
        "    yHat[0] = y0 # La primera componente del vector de aproximaciones vale la condición inicial\n",
        "\n",
        "    if (y != None):\n",
        "        yOriginal = np.zeros(n + 1)\n",
        "        yOriginal[0] = y(t[0])\n",
        "\n",
        "    for i in range(1, 4):\n",
        "        # Calculamos los valores iniciales restantes usando el método Runge-Kutta 4\n",
        "        t[i] = a + i * h \n",
        "        yHat[i] = MetodoRungeKutta4(a, t[i], i, y0, f)[-1] # Queremos solamente la última aproximación\n",
        "        if (y != None):\n",
        "            yOriginal[i] = y(t[i])\n",
        "\n",
        "    for i in range(4, n + 1):\n",
        "        predictor = yHat[i - 1] + h / 24 * (55 * f(t[i - 1], yHat[i - 1]) -\n",
        "                                      59 * f(t[i - 1] - h, yHat[i - 2]) +\n",
        "                                      37 * f(t[i - 1] - 2 * h, yHat[i - 3]) -\n",
        "                                      9 * f(t[i - 1] - 3 * h, yHat[i - 4]))\n",
        "        yHat[i] = yHat[i - 1] + h / 24 * (9 * f(t[i - 1] + h, predictor) +\n",
        "                                          19 * f(t[i - 1], yHat[i - 1]) -\n",
        "                                          5 * f(t[i - 1] - h, yHat[i - 2]) +\n",
        "                                          f(t[i - 1] - 2 * h, yHat[i - 3]))\n",
        "        t[i] = a + i * h\n",
        "        \n",
        "        if (y != None):\n",
        "            yOriginal[i] = y(t[i]) \n",
        "\n",
        "    data = pd.DataFrame({\"t\": t, \"yHat\": yHat})\n",
        "    if (y != None):\n",
        "        data[\"y\"] = yOriginal\n",
        "        data[\"|y - yHat|\"] = abs(yOriginal - yHat)\n",
        "    if verbose:\n",
        "        print(data)\n",
        "    \n",
        "    if complete:\n",
        "        return data\n",
        "    return yHat"
      ],
      "execution_count": null,
      "outputs": []
    },
    {
      "cell_type": "code",
      "metadata": {
        "id": "ANhRiqzcSIIx"
      },
      "source": [
        "a = 0\n",
        "b = 1\n",
        "n = 10 # De este modo conseguimos h = 0.1\n",
        "y0 = 0\n",
        "\n",
        "def f(t, y):\n",
        "    return t * math.exp(3 * t) - 2 * y\n",
        "\n",
        "def y(t):\n",
        "    return 1 / 5 * t * math.exp(3 * t) - 1 / 25 * math.exp(3 * t) + 1 / 25 * math.exp(-2 * t)"
      ],
      "execution_count": null,
      "outputs": []
    },
    {
      "cell_type": "code",
      "metadata": {
        "colab": {
          "base_uri": "https://localhost:8080/"
        },
        "id": "ISzZ1RrjSLta",
        "outputId": "d0306661-a44b-4549-c723-31869003e036"
      },
      "source": [
        "yHat = MetodoPredictorCorrector4(a, b, n, y0, f, y = y, verbose = True)"
      ],
      "execution_count": null,
      "outputs": [
        {
          "output_type": "stream",
          "name": "stdout",
          "text": [
            "h = 0.1\n",
            "\n",
            "      t      yHat         y  |y - yHat|\n",
            "0   0.0  0.000000  0.000000    0.000000\n",
            "1   0.1  0.005755  0.005752    0.000003\n",
            "2   0.2  0.026819  0.026813    0.000006\n",
            "3   0.3  0.071155  0.071145    0.000011\n",
            "4   0.4  0.150875  0.150778    0.000098\n",
            "5   0.5  0.283822  0.283617    0.000206\n",
            "6   0.6  0.496367  0.496020    0.000347\n",
            "7   0.7  0.827020  0.826481    0.000539\n",
            "8   0.8  1.331659  1.330857    0.000802\n",
            "9   0.9  2.090941  2.089774    0.001167\n",
            "10  1.0  3.220775  3.219099    0.001675\n"
          ]
        }
      ]
    },
    {
      "cell_type": "code",
      "metadata": {
        "colab": {
          "base_uri": "https://localhost:8080/",
          "height": 447
        },
        "id": "3ubf1IJCSTHg",
        "outputId": "69be66b3-226a-4681-c882-3ec65088f0d6"
      },
      "source": [
        "df = MetodoPredictorCorrector4(a, b, n, y0, f, y = y, verbose = False, complete = True)\n",
        "HelperPlot(df)"
      ],
      "execution_count": null,
      "outputs": [
        {
          "output_type": "display_data",
          "data": {
            "image/png": "[encoded data removed]",
            "text/plain": [
              "<Figure size 640x480 with 1 Axes>"
            ]
          },
          "metadata": {}
        }
      ]
    },
    {
      "cell_type": "markdown",
      "metadata": {
        "id": "3RLw89aYSzCv"
      },
      "source": [
        "## Método de Euler para Sistemas"
      ]
    },
    {
      "cell_type": "markdown",
      "metadata": {
        "id": "Be3jNJsqXRHQ"
      },
      "source": [
        "Podemos adaptar el problema de valores iniciales correspondiente a una ecuación diferencial al problema de valores iniciales correspondiente a un sistema de ecuaciones diferenciales."
      ]
    },
    {
      "cell_type": "code",
      "metadata": {
        "id": "MHVin0_GSfRI"
      },
      "source": [
        "def MetodoEulerSistema(a, b, n, y0List, fList, yList = None, verbose = False, complete = False):\n",
        "    \"\"\"\n",
        "    Ofrece una solución aproximada a un sistema de m ecuaciones \n",
        "    diferenciales mediante el método de Euler\n",
        "\n",
        "    Args:\n",
        "        a: (float) Valor inicial\n",
        "        b: (float) Valor final\n",
        "        n: (int) Número de aproximaciones\n",
        "        y0List: (list) Vector de condiciones iniciales y0_i\n",
        "        fList: (list) Lista de funciones f_i(t, y1,..., ym)\n",
        "        yList: (list) Lista de funciones y_i(t) originales. Parámetro opcional.\n",
        "        verbose: (bool) Para mostrar o no los resultados relevantes\n",
        "        complete: (bool) Para devolver o no el dataframe completo de resultados.\n",
        "            Si vale True, entonces yList debe ser distinto de None\n",
        "\n",
        "    Returns:\n",
        "        yHat: (ndarray) Matriz de aproximaciones si complete = False\n",
        "              (dataframe) Dataframe con los datos t, yHat, y e |y - yHat|\n",
        "                para cada iteración si complete = True\n",
        "    \"\"\"\n",
        "\n",
        "    if complete and yList == None:\n",
        "        print(\"Si complete = True, entonces debes indicar una lista de funciones para el parámetro yList\")\n",
        "        return\n",
        "\n",
        "    m = len(fList)\n",
        "    if (verbose):\n",
        "        print(\"El sistema tiene {} ecuaciones\".format(m), end = \"\\n\\n\")\n",
        "\n",
        "    h = (b - a) / n\n",
        "    if (verbose):\n",
        "        print(\"h =\", h, end = \"\\n\\n\")\n",
        "\n",
        "    t = np.zeros(n + 1) # Ponemos n + 1 porque también incluimos el índice 0\n",
        "    t[0] = a\n",
        "\n",
        "    yHat = np.zeros((m, n + 1))\n",
        "    yHat[:, 0] = np.array(y0List) # La primera columna de la matriz de aproximaciones vale la condición inicial\n",
        "\n",
        "    if (yList != None):\n",
        "        yOriginal = np.zeros((m, n + 1))\n",
        "        yOriginal[:, 0] = np.array([y(t[0]) for y in yList])\n",
        "\n",
        "    for i in range(1, n + 1):\n",
        "        for j in range(m):\n",
        "            yHat[j, i] = yHat[j, i - 1] + h * fList[j](t[i - 1], yHat[:, i - 1]) # Calculamos yHat(t + i * h)\n",
        "        \n",
        "        t[i] = a + i * h \n",
        "        if (yList != None):\n",
        "            yOriginal[:, i] = np.array([y(t[i]) for y in yList])\n",
        "\n",
        "        \n",
        "    \n",
        "    data = pd.DataFrame({\"t\": t})\n",
        "    for col in range(m):\n",
        "        data[\"yHat\" + str(col + 1)] = yHat[col, :]\n",
        "    if (yList != None):\n",
        "        for col in range(m):\n",
        "            data[\"y\" + str(col + 1)] = yOriginal[col, :]\n",
        "        data[\"||y - yHat||\"] = np.sqrt(np.sum(np.power(yOriginal - yHat, 2), axis = 0))\n",
        "    if verbose:\n",
        "        print(data)\n",
        "    \n",
        "    if complete:\n",
        "        return data\n",
        "    return yHat"
      ],
      "execution_count": null,
      "outputs": []
    },
    {
      "cell_type": "code",
      "metadata": {
        "id": "2fwGFdj6ar6s"
      },
      "source": [
        "a = 0\n",
        "b = 1\n",
        "n = 10 # De este modo conseguimos h = 0.1\n",
        "y0 = [1, 1]\n",
        "\n",
        "def f1(t, yList):\n",
        "    return 3 * yList[0] + 2 * yList[1] - (2 * math.pow(t, 2) + 1) * math.exp(2 * t)\n",
        "\n",
        "def f2(t, yList):\n",
        "    return 4 * yList[0] + yList[1] + (math.pow(t, 2) + 2 * t - 4) * math.exp(2 * t)\n",
        "\n",
        "def y1(t):\n",
        "    return 1 / 3 * math.exp(5 * t) - 1 / 3 * math.exp(-t) + math.exp(2 * t)\n",
        "\n",
        "def y2(t):\n",
        "    return 1 / 3 * math.exp(5 * t) + 2 / 3 * math.exp(-t) + math.pow(t, 2) * math.exp(2 * t)"
      ],
      "execution_count": null,
      "outputs": []
    },
    {
      "cell_type": "code",
      "metadata": {
        "colab": {
          "base_uri": "https://localhost:8080/"
        },
        "id": "tGsd_5Dkc3jy",
        "outputId": "38b6eae5-2f82-4a2d-e867-cef9f51b1e69"
      },
      "source": [
        "yHat = MetodoEulerSistema(a, b, n, y0, [f1, f2], yList = [y1, y2], verbose = True)"
      ],
      "execution_count": null,
      "outputs": [
        {
          "output_type": "stream",
          "name": "stdout",
          "text": [
            "El sistema tiene 2 ecuaciones\n",
            "\n",
            "h = 0.1\n",
            "\n",
            "      t      yHat1      yHat2         y1         y2  ||y - yHat||\n",
            "0   0.0   1.000000   1.000000   1.000000   1.000000      0.000000\n",
            "1   0.1   1.400000   1.100000   1.469364   1.165013      0.095069\n",
            "2   0.2   1.915417   1.307088   2.125008   1.511587      0.292828\n",
            "3   0.3   2.590343   1.672874   3.069076   2.151766      0.677143\n",
            "4   0.4   3.487010   2.273178   4.465120   3.265985      1.393688\n",
            "5   0.5   4.693977   3.218735   6.576936   5.144756      2.693527\n",
            "6   0.6   6.338175   4.670672   9.832359   8.256295      5.006597\n",
            "7   0.7   8.602702   6.862901  14.928156  13.356589      9.065282\n",
            "8   0.8  11.753163  10.134624  23.002639  21.668877     16.111787\n",
            "9   0.9  16.176746  14.977619  35.919835  35.176971     28.245414\n",
            "10  1.0  22.440286  22.105178  56.737483  57.105362     49.003170\n"
          ]
        }
      ]
    },
    {
      "cell_type": "code",
      "metadata": {
        "id": "f1lHS42npeAt",
        "colab": {
          "base_uri": "https://localhost:8080/",
          "height": 447
        },
        "outputId": "8a4a244d-9618-4311-df3f-121195fd0a6d"
      },
      "source": [
        "df = MetodoEulerSistema(a, b, n, y0, [f1, f2], yList = [y1, y2], verbose = False, complete = True)\n",
        "HelperPlotSistema(df)"
      ],
      "execution_count": null,
      "outputs": [
        {
          "output_type": "display_data",
          "data": {
            "image/png": "[encoded data removed]",
            "text/plain": [
              "<Figure size 640x480 with 1 Axes>"
            ]
          },
          "metadata": {}
        }
      ]
    },
    {
      "cell_type": "markdown",
      "metadata": {
        "id": "2ph6bojZxMH6"
      },
      "source": [
        "## Método de Taylor de Orden 2 para Sistemas"
      ]
    },
    {
      "cell_type": "code",
      "metadata": {
        "id": "hnTyQUEVxOa6"
      },
      "source": [
        "def MetodoTaylor2Sistema(a, b, n, y0List, fList, ftList, fyList, yList = None, verbose = False, \n",
        "                         complete = False):\n",
        "    \"\"\"\n",
        "    Ofrece una solución aproximada a un sistema de m ecuaciones \n",
        "    diferenciales mediante el método de Taylor de orden 2 \n",
        "\n",
        "    Args:\n",
        "        a: (float) Valor inicial\n",
        "        b: (float) Valor final\n",
        "        n: (int) Número de aproximaciones\n",
        "        y0List: (list) Vector de condiciones iniciales y0_i\n",
        "        fList: (list) Lista de funciones f_i(t, y1,..., ym)\n",
        "        ftList: (list) Lista de funciones ft_i(t, y1,..., ym)\n",
        "        fyList: (list) Lista bidimensional de funciones fy_i(t, y1,..., ym) donde cada fila se\n",
        "            corresponde con las parciales de f_i y cada columna, con las parcial con respecto y_j\n",
        "        yList: (list) Lista de funciones y_i(t) originales. Parámetro opcional.\n",
        "        verbose: (bool) Para mostrar o no los resultados relevantes\n",
        "        complete: (bool) Para devolver o no el dataframe completo de resultados.\n",
        "            Si vale True, entonces yList debe ser distinto de None\n",
        "\n",
        "    Returns:\n",
        "        yHat: (ndarray) Matriz de aproximaciones si complete = False\n",
        "              (dataframe) Dataframe con los datos t, yHat, y e |y - yHat|\n",
        "                para cada iteración si complete = True\n",
        "    \"\"\"\n",
        "\n",
        "    if complete and yList == None:\n",
        "        print(\"Si complete = True, entonces debes indicar una lista de funciones para el parámetro yList\")\n",
        "        return\n",
        "\n",
        "    m = len(fList)\n",
        "    if (verbose):\n",
        "        print(\"El sistema tiene {} ecuaciones\".format(m), end = \"\\n\\n\")\n",
        "\n",
        "    h = (b - a) / n\n",
        "    if (verbose):\n",
        "        print(\"h =\", h, end = \"\\n\\n\")\n",
        "\n",
        "    t = np.zeros(n + 1) # Ponemos n + 1 porque también incluimos el índice 0\n",
        "    t[0] = a\n",
        "\n",
        "    yHat = np.zeros((m, n + 1))\n",
        "    yHat[:, 0] = np.array(y0List)# La primera columna de la matriz de aproximaciones vale la condición inicial\n",
        "\n",
        "    if (yList != None):\n",
        "        yOriginal = np.zeros((m, n + 1))\n",
        "        yOriginal[:, 0] = np.array([y(t[0]) for y in yList])\n",
        "\n",
        "    for i in range(1, n + 1):\n",
        "        for j in range(m):\n",
        "            yHat[j, i] = yHat[j, i - 1] + h * (fList[j](t[i - 1], yHat[:, i - 1]) +\n",
        "                          h / 2 * (ftList[j](t[i - 1], yHat[:, i - 1]) +\n",
        "                          np.sum([(fyList[j][l](t[i - 1], yHat[:, i - 1]) * \n",
        "                                   fList[l](t[i - 1], yHat[:, i - 1])) for l in range(m)])))\n",
        "\n",
        "        t[i] = a + i * h \n",
        "        if (yList != None):\n",
        "            yOriginal[:, i] = np.array([y(t[i]) for y in yList])\n",
        "\n",
        "        \n",
        "    \n",
        "    data = pd.DataFrame({\"t\": t})\n",
        "    for col in range(m):\n",
        "        data[\"yHat\" + str(col + 1)] = yHat[col, :]\n",
        "    if (yList != None):\n",
        "        for col in range(m):\n",
        "            data[\"y\" + str(col + 1)] = yOriginal[col, :]\n",
        "        data[\"||y - yHat||\"] = np.sqrt(np.sum(np.power(yOriginal - yHat, 2), axis = 0))\n",
        "    if verbose:\n",
        "        print(data)\n",
        "    \n",
        "    if complete:\n",
        "        return data\n",
        "    return yHat"
      ],
      "execution_count": null,
      "outputs": []
    },
    {
      "cell_type": "code",
      "metadata": {
        "id": "EUhx_YPJvs5k"
      },
      "source": [
        "a = 0\n",
        "b = 1\n",
        "n = 10 # De este modo conseguimos h = 0.1\n",
        "y0 = [1, 1]\n",
        "\n",
        "def f1(t, yList):\n",
        "    return 3 * yList[0] + 2 * yList[1] - (2 * math.pow(t, 2) + 1) * math.exp(2 * t)\n",
        "\n",
        "def f2(t, yList):\n",
        "    return 4 * yList[0] + yList[1] + (math.pow(t, 2) + 2 * t - 4) * math.exp(2 * t)\n",
        "\n",
        "def y1(t):\n",
        "    return 1 / 3 * math.exp(5 * t) - 1 / 3 * math.exp(-t) + math.exp(2 * t)\n",
        "\n",
        "def y2(t):\n",
        "    return 1 / 3 * math.exp(5 * t) + 2 / 3 * math.exp(-t) + math.pow(t, 2) * math.exp(2 * t)\n",
        "\n",
        "def ft1(t, yList):\n",
        "    return -2 * (2 * math.pow(t, 2) + 2 * t + 1) * math.exp(2 * t)\n",
        "\n",
        "def ft2(t, yList):\n",
        "    return 2 * (math.pow(t, 2) + 3 * t - 3) * math.exp(2 * t)  \n",
        "\n",
        "def f1y1(t, yList):\n",
        "    return 3\n",
        "\n",
        "def f1y2(t, yList):\n",
        "    return 2   \n",
        "\n",
        "def f2y1(t, yList):\n",
        "    return 4\n",
        "\n",
        "def f2y2(t, yList):\n",
        "    return 1  "
      ],
      "execution_count": null,
      "outputs": []
    },
    {
      "cell_type": "code",
      "metadata": {
        "colab": {
          "base_uri": "https://localhost:8080/"
        },
        "id": "gTPqdMkzxSaR",
        "outputId": "cc865718-f88f-43a3-8a4d-3fe177582533"
      },
      "source": [
        "yHat = MetodoTaylor2Sistema(a, b, n, y0, [f1, f2], [ft1, ft2], [[f1y1, f1y2], [f2y1, f2y2]], \n",
        "                            yList = [y1, y2], verbose = True)"
      ],
      "execution_count": null,
      "outputs": [
        {
          "output_type": "stream",
          "name": "stdout",
          "text": [
            "El sistema tiene 2 ecuaciones\n",
            "\n",
            "h = 0.1\n",
            "\n",
            "      t      yHat1      yHat2         y1         y2  ||y - yHat||\n",
            "0   0.0   1.000000   1.000000   1.000000   1.000000      0.000000\n",
            "1   0.1   1.460000   1.155000   1.469364   1.165013      0.013709\n",
            "2   0.2   2.094837   1.479445   2.125008   1.511587      0.044084\n",
            "3   0.3   2.995944   2.074412   3.069076   2.151766      0.106451\n",
            "4   0.4   4.307234   3.100351   4.465120   3.265985      0.228829\n",
            "5   0.5   6.256928   4.811728   6.576936   5.144756      0.461858\n",
            "6   0.6   9.209047   7.612324   9.832359   8.256295      0.896224\n",
            "7   0.7  13.746810  12.143738  14.928156  13.356589      1.693099\n",
            "8   0.8  20.807829  19.427407  23.002639  21.668877      3.137097\n",
            "9   0.9  31.903385  31.092942  35.919835  35.176971      5.728103\n",
            "10  1.0  49.474251  49.745949  56.737483  57.105362     10.339995\n"
          ]
        }
      ]
    },
    {
      "cell_type": "code",
      "metadata": {
        "colab": {
          "base_uri": "https://localhost:8080/",
          "height": 447
        },
        "id": "gN7h52o1bG81",
        "outputId": "4d09b0f7-28ac-4a37-a7c6-a3637dad9749"
      },
      "source": [
        "df = MetodoTaylor2Sistema(a, b, n, y0, [f1, f2], [ft1, ft2], [[f1y1, f1y2], [f2y1, f2y2]], \n",
        "                            yList = [y1, y2], verbose = False, complete = True)\n",
        "HelperPlotSistema(df)"
      ],
      "execution_count": null,
      "outputs": [
        {
          "output_type": "display_data",
          "data": {
            "image/png": "[encoded data removed]",
            "text/plain": [
              "<Figure size 640x480 with 1 Axes>"
            ]
          },
          "metadata": {}
        }
      ]
    },
    {
      "cell_type": "markdown",
      "metadata": {
        "id": "LY0FgBMI9FH1"
      },
      "source": [
        "## Método Runge-Kutta 4 para Sistemas"
      ]
    },
    {
      "cell_type": "code",
      "metadata": {
        "id": "vmzlDSu6-sGb"
      },
      "source": [
        "def MetodoRungeKutta4Sistema(a, b, n, y0List, fList, yList = None, verbose = False, complete = False):\n",
        "    \"\"\"\n",
        "    Ofrece una solución aproximada a un sistema de m ecuaciones \n",
        "    diferenciales mediante el método de Runge Kutta de orden 4 \n",
        "\n",
        "    Args:\n",
        "        a: (float) Valor inicial\n",
        "        b: (float) Valor final\n",
        "        n: (int) Número de aproximaciones\n",
        "        y0List: (list) Vector de condiciones iniciales y0_i\n",
        "        fList: (list) Lista de funciones f_i(t, y1,..., ym)\n",
        "        yList: (list) Lista de funciones y_i(t) originales. Parámetro opcional.\n",
        "        verbose: (bool) Para mostrar o no los resultados relevantes\n",
        "        complete: (bool) Para devolver o no el dataframe completo de resultados.\n",
        "            Si vale True, entonces yList debe ser distinto de None\n",
        "\n",
        "    Returns:\n",
        "        yHat: (ndarray) Matriz de aproximaciones si complete = False\n",
        "              (dataframe) Dataframe con los datos t, yHat, y e |y - yHat|\n",
        "                para cada iteración si complete = True\n",
        "    \"\"\"\n",
        "\n",
        "    if complete and yList == None:\n",
        "        print(\"Si complete = True, entonces debes indicar una lista de funciones para el parámetro yList\")\n",
        "        return\n",
        "\n",
        "    m = len(fList)\n",
        "    if (verbose):\n",
        "        print(\"El sistema tiene {} ecuaciones\".format(m), end = \"\\n\\n\")\n",
        "\n",
        "    h = (b - a) / n\n",
        "    if (verbose):\n",
        "        print(\"h =\", h, end = \"\\n\\n\")\n",
        "\n",
        "    t = np.zeros(n + 1) # Ponemos n + 1 porque también incluimos el índice 0\n",
        "    t[0] = a\n",
        "\n",
        "    yHat = np.zeros((m, n + 1))\n",
        "    yHat[:, 0] = np.array(y0List) # La primera columna de la matriz de aproximaciones vale la condición inicial\n",
        "\n",
        "    if (yList != None):\n",
        "        yOriginal = np.zeros((m, n + 1))\n",
        "        yOriginal[:, 0] = np.array([y(t[0]) for y in yList])\n",
        "\n",
        "    k = np.zeros((m , 4))\n",
        "    for i in range(1, n + 1):\n",
        "        for j in range(m):\n",
        "            k[j, 0] = fList[j](t[i - 1], yHat[:, i - 1])\n",
        "        for j in range(m):\n",
        "            k[j, 1] = fList[j](t[i - 1] + h / 2, yHat[:, i - 1] + (h * k[:, 0] / 2))\n",
        "        for j in range(m):\n",
        "            k[j, 2] = fList[j](t[i - 1] + h / 2, yHat[:, i - 1] + (h * k[:, 1] / 2))\n",
        "        for j in range(m):\n",
        "            k[j, 3] = fList[j](t[i - 1] + h, yHat[:, i - 1] + (h * k[:, 2]))\n",
        "        for j in range(m):\n",
        "            yHat[j, i] = yHat[j, i - 1] + h / 6 * (k[j, 0] + 2 * k[j, 1] +\n",
        "                                                   2 * k[j, 2] + k[j, 3])\n",
        "\n",
        "        t[i] = a + i * h \n",
        "        if (yList != None):\n",
        "            yOriginal[:, i] = np.array([y(t[i]) for y in yList])\n",
        "        \n",
        "        if verbose:\n",
        "            for i in range(4):\n",
        "                for j in range(m):\n",
        "                    print(\"k({}, {}) = {}\".format(j, i, k[j, i]), end = \"\\t\")\n",
        "                print(\"\")\n",
        "            print(\"\\n\\n\" + \"=\" * 75, end = \"\\n\\n\")\n",
        "    \n",
        "    data = pd.DataFrame({\"t\": t})\n",
        "    for col in range(m):\n",
        "        data[\"yHat\" + str(col + 1)] = yHat[col, :]\n",
        "    if (yList != None):\n",
        "        for col in range(m):\n",
        "            data[\"y\" + str(col + 1)] = yOriginal[col, :]\n",
        "        data[\"||y - yHat||\"] = np.sqrt(np.sum(np.power(yOriginal - yHat, 2), axis = 0))\n",
        "    if verbose:\n",
        "        print(data)\n",
        "    \n",
        "    if complete:\n",
        "        return data\n",
        "    return yHat"
      ],
      "execution_count": null,
      "outputs": []
    },
    {
      "cell_type": "code",
      "metadata": {
        "id": "mENCLguOBC_q"
      },
      "source": [
        "a = 0\n",
        "b = 1\n",
        "n = 10 # De este modo conseguimos h = 0.1\n",
        "y0 = np.ones(2)\n",
        "\n",
        "def f1(t, yList):\n",
        "    return 3 * yList[0] + 2 * yList[1] - (2 * math.pow(t, 2) + 1) * math.exp(2 * t)\n",
        "\n",
        "def f2(t, yList):\n",
        "    return 4 * yList[0] + yList[1] + (math.pow(t, 2) + 2 * t - 4) * math.exp(2 * t)\n",
        "\n",
        "def y1(t):\n",
        "    return 1 / 3 * math.exp(5 * t) - 1 / 3 * math.exp(-t) + math.exp(2 * t)\n",
        "\n",
        "def y2(t):\n",
        "    return 1 / 3 * math.exp(5 * t) + 2 / 3 * math.exp(-t) + math.pow(t, 2) * math.exp(2 * t)"
      ],
      "execution_count": null,
      "outputs": []
    },
    {
      "cell_type": "code",
      "metadata": {
        "colab": {
          "base_uri": "https://localhost:8080/"
        },
        "id": "iStNG38QBLO_",
        "outputId": "5003d680-c2b6-4ee5-b8d1-6ff08c5bf992"
      },
      "source": [
        "yHat = MetodoRungeKutta4Sistema(a, b, n, y0, [f1, f2], yList = [y1, y2], verbose = True)"
      ],
      "execution_count": null,
      "outputs": [
        {
          "output_type": "stream",
          "name": "stdout",
          "text": [
            "El sistema tiene 2 ecuaciones\n",
            "\n",
            "h = 0.1\n",
            "\n",
            "k(0, 0) = 4.0\tk(1, 0) = 1.0\t\n",
            "k(0, 1) = 4.589303227333973\tk(1, 1) = 1.5425963468001624\t\n",
            "k(0, 2) = 4.7319583461140855\tk(1, 2) = 1.687586809606966\t\n",
            "k(0, 3) = 5.511274052432245\tk(1, 3) = 2.432425565979286\t\n",
            "\n",
            "\n",
            "===========================================================================\n",
            "\n",
            "k(0, 0) = 5.491618775936162\tk(1, 0) = 2.412683224508072\t\n",
            "k(0, 1) = 6.391858274183844\tk(1, 1) = 3.2966518294870015\t\n",
            "k(0, 2) = 6.615291059418889\tk(1, 2) = 3.5208981593854842\t\n",
            "k(0, 3) = 7.815045865509728\tk(1, 3) = 4.729109994038298\t\n",
            "\n",
            "\n",
            "===========================================================================\n",
            "\n",
            "k(0, 0) = 7.784890187782577\tk(1, 0) = 4.698582861513808\t\n",
            "k(0, 1) = 9.178841246016272\tk(1, 1) = 6.133906597717244\t\n",
            "k(0, 2) = 9.53146627837167\tk(1, 2) = 6.484462996174157\t\n",
            "k(0, 3) = 11.402293159520681\tk(1, 3) = 8.43929836679023\t\n",
            "\n",
            "\n",
            "===========================================================================\n",
            "\n",
            "k(0, 0) = 11.355504610447866\tk(1, 0) = 8.391695789164203\t\n",
            "k(0, 1) = 13.540977944591525\tk(1, 1) = 10.714895502017132\t\n",
            "k(0, 2) = 14.101118915998363\tk(1, 2) = 11.26815015448851\t\n",
            "k(0, 3) = 17.051856474995823\tk(1, 3) = 14.42452717768788\t\n",
            "\n",
            "\n",
            "===========================================================================\n",
            "\n",
            "k(0, 0) = 16.9785456522919\tk(1, 0) = 14.34974015427897\t\n",
            "k(0, 1) = 20.44227316999812\tk(1, 1) = 18.101880700491137\t\n",
            "k(0, 2) = 21.33704635227527\tk(1, 2) = 18.982233231342992\t\n",
            "k(0, 3) = 26.036397487164564\tk(1, 3) = 24.073151412678108\t\n",
            "\n",
            "\n",
            "===========================================================================\n",
            "\n",
            "k(0, 0) = 25.920553358767727\tk(1, 0) = 23.95486701807767\t\n",
            "k(0, 1) = 31.459859338645188\tk(1, 1) = 30.00867482179661\t\n",
            "k(0, 2) = 32.89613601599871\tk(1, 2) = 31.41922640795805\t\n",
            "k(0, 3) = 40.440061080740655\tk(1, 3) = 39.62943380205816\t\n",
            "\n",
            "\n",
            "===========================================================================\n",
            "\n",
            "k(0, 0) = 40.25567536111075\tk(1, 0) = 39.4412321527767\t\n",
            "k(0, 1) = 49.17889863590438\tk(1, 1) = 49.20869096361203\t\n",
            "k(0, 2) = 51.49412800820696\tk(1, 2) = 51.48170855911252\t\n",
            "k(0, 3) = 63.68156064814974\tk(1, 3) = 64.73166757340566\t\n",
            "\n",
            "\n",
            "===========================================================================\n",
            "\n",
            "k(0, 0) = 63.38626829112701\tk(1, 0) = 64.43062644690436\t\n",
            "k(0, 1) = 77.84297783937058\tk(1, 1) = 80.20261078373723\t\n",
            "k(0, 2) = 81.5886827052904\tk(1, 2) = 83.88255191022759\t\n",
            "k(0, 3) = 101.37576549149125\tk(1, 3) = 105.29348958315013\t\n",
            "\n",
            "\n",
            "===========================================================================\n",
            "\n",
            "k(0, 0) = 100.90039942205509\tk(1, 0) = 104.80969232510695\t\n",
            "k(0, 1) = 124.42554112272191\tk(1, 1) = 130.31244188225907\t\n",
            "k(0, 2) = 130.50458733353713\tk(1, 2) = 136.29260770025004\t\n",
            "k(0, 3) = 162.7531347330252\tk(1, 3) = 170.94911511994823\t\n",
            "\n",
            "\n",
            "===========================================================================\n",
            "\n",
            "k(0, 0) = 161.98455676662974\tk(1, 0) = 170.1684205978495\t\n",
            "k(0, 1) = 200.39522478757772\tk(1, 1) = 211.47640436197247\t\n",
            "k(0, 2) = 210.28762336713223\tk(1, 2) = 221.2239371543682\t\n",
            "k(0, 3) = 262.998539267613\tk(1, 3) = 277.42581753674256\t\n",
            "\n",
            "\n",
            "===========================================================================\n",
            "\n",
            "      t      yHat1      yHat2         y1         y2  ||y - yHat||\n",
            "0   0.0   1.000000   1.000000   1.000000   1.000000      0.000000\n",
            "1   0.1   1.469230   1.164880   1.469364   1.165013      0.000189\n",
            "2   0.2   2.124579   1.511161   2.125008   1.511587      0.000605\n",
            "3   0.3   3.068043   2.150738   3.069076   2.151766      0.001457\n",
            "4   0.4   4.462902   3.263777   4.465120   3.265985      0.003130\n",
            "5   0.5   6.572462   5.140296   6.576936   5.144756      0.006318\n",
            "6   0.6   9.823672   8.247631   9.832359   8.256295      0.012270\n",
            "7   0.7  14.911727  13.340192  14.928156  13.356589      0.023211\n",
            "8   0.8  22.972149  21.638433  23.002639  21.668877      0.043087\n",
            "9   0.9  35.864046  35.121248  35.919835  35.176971      0.078851\n",
            "10  1.0  56.636525  57.004497  56.737483  57.105362      0.142710\n"
          ]
        }
      ]
    },
    {
      "cell_type": "code",
      "metadata": {
        "colab": {
          "base_uri": "https://localhost:8080/",
          "height": 447
        },
        "id": "YGenLJ0HP9Xp",
        "outputId": "ef24dee3-97e1-4321-9e5b-0fb5345b37eb"
      },
      "source": [
        "df = MetodoRungeKutta4Sistema(a, b, n, y0, [f1, f2], yList = [y1, y2], verbose = False, complete = True)\n",
        "HelperPlotSistema(df)"
      ],
      "execution_count": null,
      "outputs": [
        {
          "output_type": "display_data",
          "data": {
            "image/png": "[encoded data removed]",
            "text/plain": [
              "<Figure size 640x480 with 1 Axes>"
            ]
          },
          "metadata": {}
        }
      ]
    }
  ]
}